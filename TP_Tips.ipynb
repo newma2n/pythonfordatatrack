{
 "cells": [
  {
   "cell_type": "markdown",
   "metadata": {},
   "source": [
    "# <font color='red'> <center> Tutorial 2 : Python for Data Science </font>\n",
    "## <font color='red'> <center> Data Understanding using *Tips* dataset</font>\n",
    "## <font color='red'> <center> 2022 - 2023</font>\n",
    "    "
   ]
  },
  {
   "cell_type": "markdown",
   "metadata": {},
   "source": [
    "---\n",
    "### Lab 1 & 2: Important issues illustrated from a case study on *Tips* dataset: \n",
    "### - Section 1. Data and Objective understanding\n",
    "### - Section 2. Descriptive statistics and Visualisation tools\n",
    "### - Section 3. Your first model : Regression\n",
    "### - Section 4. Some more analysis (to prepare with your mini-group partner)\n",
    "---"
   ]
  },
  {
   "cell_type": "markdown",
   "metadata": {},
   "source": [
    "# <font color='red'> Section 1. Data and objective understanding </font> "
   ]
  },
  {
   "cell_type": "markdown",
   "metadata": {},
   "source": [
    "–The Tips dataset– Food server’s tips in restaurants may be influenced by many factors (e.g. the\n",
    "nature and location of the restaurant, the size of the party, the table location and the day of the week. . . ).\n",
    "Restaurant managers need to know which factors matter when they assign tables to food servers. Indeed,\n",
    "for the sake of staff morale, they usually want to avoid either the substance or the appearance of unfair\n",
    "treatment of the servers, for whom tips (at least in restaurants in the United States) are a major component\n",
    "of pay.\n",
    "In one restaurant, a food server recorded some data on all customers they served during an interval\n",
    "of two and a half months in early 1990. The restaurant, located in a suburban shopping mall, was part\n",
    "of a national chain and served a varied menu. In observance of local law the restaurant offered seating\n",
    "in a non-smoking section to patrons who requested it. Each record includes a day and time, and thus\n",
    "taken together, they show the server’s work schedule. The food server provided a comma-separated-value\n",
    "file tips.csv containing 244 records, described by 7 variables ( total bill, tip, sex, smoker, day, time\n",
    "and size)."
   ]
  },
  {
   "cell_type": "code",
   "execution_count": 1,
   "metadata": {},
   "outputs": [],
   "source": [
    "# import useful libraries\n",
    "import pandas as pd  # to manipulate dataframes, plots, ..\n",
    "import matplotlib.pyplot as plt\n",
    "import seaborn as sns # seaborn is an advanced library for visualization\n",
    "import numpy as np\n",
    "import scipy as sp\n",
    "\n",
    "# to have figures in the current notebook you should add : %matplotlib inline\n",
    "%matplotlib inline \n"
   ]
  },
  {
   "cell_type": "markdown",
   "metadata": {},
   "source": [
    "### Question 1"
   ]
  },
  {
   "cell_type": "markdown",
   "metadata": {},
   "source": [
    "What do you know from the text above and what information is missing?"
   ]
  },
  {
   "cell_type": "markdown",
   "metadata": {},
   "source": [
    "---\n",
    "We can say that our problem is about supervised learning, because we have a target function which is the tip provided by customers to servers. The other attributes are the dependent variables(features).\n",
    "\n",
    "---"
   ]
  },
  {
   "cell_type": "markdown",
   "metadata": {},
   "source": [
    "### Question 2"
   ]
  },
  {
   "cell_type": "markdown",
   "metadata": {},
   "source": [
    "Do you have some idea about the objectives of the study and the knowledge you could extract from the data? Could you suggest a list of questions of interest?"
   ]
  },
  {
   "cell_type": "markdown",
   "metadata": {
    "collapsed": true
   },
   "source": [
    "Here we want to know the influence of total bill, sex, smoker, day, time and size on tip by finding a model that can generalise the data.  "
   ]
  },
  {
   "cell_type": "markdown",
   "metadata": {},
   "source": [
    "Some questions : \n",
    "\n",
    "    - What factors can most influence the tip value ?\n",
    "    - Which factors matter when managers assign tables to food servers ?\n",
    "    - We can create from the data a classification problem: will the customer give or not the tip ( by creating a new column  basing on the tip column ( if tip<.. ==> no otheriwise ==> yes )\n",
    "  "
   ]
  },
  {
   "cell_type": "markdown",
   "metadata": {},
   "source": [
    "### Question 3"
   ]
  },
  {
   "cell_type": "markdown",
   "metadata": {},
   "source": [
    " Load the dataset and have a look at it using the describe() function. Describe the data (the format of the data, the quantity of data –number of example/ records and variable/fields–). What are the expected values and role of each variable?"
   ]
  },
  {
   "cell_type": "code",
   "execution_count": 2,
   "metadata": {},
   "outputs": [
    {
     "data": {
      "text/html": [
       "<div>\n",
       "<style scoped>\n",
       "    .dataframe tbody tr th:only-of-type {\n",
       "        vertical-align: middle;\n",
       "    }\n",
       "\n",
       "    .dataframe tbody tr th {\n",
       "        vertical-align: top;\n",
       "    }\n",
       "\n",
       "    .dataframe thead th {\n",
       "        text-align: right;\n",
       "    }\n",
       "</style>\n",
       "<table border=\"1\" class=\"dataframe\">\n",
       "  <thead>\n",
       "    <tr style=\"text-align: right;\">\n",
       "      <th></th>\n",
       "      <th>total_bill</th>\n",
       "      <th>tip</th>\n",
       "      <th>sex</th>\n",
       "      <th>smoker</th>\n",
       "      <th>day</th>\n",
       "      <th>time</th>\n",
       "      <th>size</th>\n",
       "    </tr>\n",
       "  </thead>\n",
       "  <tbody>\n",
       "    <tr>\n",
       "      <th>0</th>\n",
       "      <td>16.99</td>\n",
       "      <td>1.01</td>\n",
       "      <td>Female</td>\n",
       "      <td>No</td>\n",
       "      <td>Sun</td>\n",
       "      <td>Dinner</td>\n",
       "      <td>2</td>\n",
       "    </tr>\n",
       "    <tr>\n",
       "      <th>1</th>\n",
       "      <td>10.34</td>\n",
       "      <td>1.66</td>\n",
       "      <td>Male</td>\n",
       "      <td>No</td>\n",
       "      <td>Sun</td>\n",
       "      <td>Dinner</td>\n",
       "      <td>3</td>\n",
       "    </tr>\n",
       "    <tr>\n",
       "      <th>2</th>\n",
       "      <td>21.01</td>\n",
       "      <td>3.50</td>\n",
       "      <td>Male</td>\n",
       "      <td>No</td>\n",
       "      <td>Sun</td>\n",
       "      <td>Dinner</td>\n",
       "      <td>3</td>\n",
       "    </tr>\n",
       "    <tr>\n",
       "      <th>3</th>\n",
       "      <td>23.68</td>\n",
       "      <td>3.31</td>\n",
       "      <td>Male</td>\n",
       "      <td>No</td>\n",
       "      <td>Sun</td>\n",
       "      <td>Dinner</td>\n",
       "      <td>2</td>\n",
       "    </tr>\n",
       "    <tr>\n",
       "      <th>4</th>\n",
       "      <td>24.59</td>\n",
       "      <td>3.61</td>\n",
       "      <td>Female</td>\n",
       "      <td>No</td>\n",
       "      <td>Sun</td>\n",
       "      <td>Dinner</td>\n",
       "      <td>4</td>\n",
       "    </tr>\n",
       "    <tr>\n",
       "      <th>...</th>\n",
       "      <td>...</td>\n",
       "      <td>...</td>\n",
       "      <td>...</td>\n",
       "      <td>...</td>\n",
       "      <td>...</td>\n",
       "      <td>...</td>\n",
       "      <td>...</td>\n",
       "    </tr>\n",
       "    <tr>\n",
       "      <th>239</th>\n",
       "      <td>29.03</td>\n",
       "      <td>5.92</td>\n",
       "      <td>Male</td>\n",
       "      <td>No</td>\n",
       "      <td>Sat</td>\n",
       "      <td>Dinner</td>\n",
       "      <td>3</td>\n",
       "    </tr>\n",
       "    <tr>\n",
       "      <th>240</th>\n",
       "      <td>27.18</td>\n",
       "      <td>2.00</td>\n",
       "      <td>Female</td>\n",
       "      <td>Yes</td>\n",
       "      <td>Sat</td>\n",
       "      <td>Dinner</td>\n",
       "      <td>2</td>\n",
       "    </tr>\n",
       "    <tr>\n",
       "      <th>241</th>\n",
       "      <td>22.67</td>\n",
       "      <td>2.00</td>\n",
       "      <td>Male</td>\n",
       "      <td>Yes</td>\n",
       "      <td>Sat</td>\n",
       "      <td>Dinner</td>\n",
       "      <td>2</td>\n",
       "    </tr>\n",
       "    <tr>\n",
       "      <th>242</th>\n",
       "      <td>17.82</td>\n",
       "      <td>1.75</td>\n",
       "      <td>Male</td>\n",
       "      <td>No</td>\n",
       "      <td>Sat</td>\n",
       "      <td>Dinner</td>\n",
       "      <td>2</td>\n",
       "    </tr>\n",
       "    <tr>\n",
       "      <th>243</th>\n",
       "      <td>18.78</td>\n",
       "      <td>3.00</td>\n",
       "      <td>Female</td>\n",
       "      <td>No</td>\n",
       "      <td>Thur</td>\n",
       "      <td>Dinner</td>\n",
       "      <td>2</td>\n",
       "    </tr>\n",
       "  </tbody>\n",
       "</table>\n",
       "<p>244 rows × 7 columns</p>\n",
       "</div>"
      ],
      "text/plain": [
       "     total_bill   tip     sex smoker   day    time  size\n",
       "0         16.99  1.01  Female     No   Sun  Dinner     2\n",
       "1         10.34  1.66    Male     No   Sun  Dinner     3\n",
       "2         21.01  3.50    Male     No   Sun  Dinner     3\n",
       "3         23.68  3.31    Male     No   Sun  Dinner     2\n",
       "4         24.59  3.61  Female     No   Sun  Dinner     4\n",
       "..          ...   ...     ...    ...   ...     ...   ...\n",
       "239       29.03  5.92    Male     No   Sat  Dinner     3\n",
       "240       27.18  2.00  Female    Yes   Sat  Dinner     2\n",
       "241       22.67  2.00    Male    Yes   Sat  Dinner     2\n",
       "242       17.82  1.75    Male     No   Sat  Dinner     2\n",
       "243       18.78  3.00  Female     No  Thur  Dinner     2\n",
       "\n",
       "[244 rows x 7 columns]"
      ]
     },
     "execution_count": 2,
     "metadata": {},
     "output_type": "execute_result"
    }
   ],
   "source": [
    "# the code below loads the data \n",
    "data_tips=pd.read_csv('data/tips-new.csv')\n",
    "# you can run the below code to see the first five observations \n",
    "data_tips\n"
   ]
  },
  {
   "cell_type": "code",
   "execution_count": 24,
   "metadata": {},
   "outputs": [
    {
     "data": {
      "text/plain": [
       "total_bill    float64\n",
       "tip           float64\n",
       "sex            object\n",
       "smoker         object\n",
       "day            object\n",
       "time           object\n",
       "size            int64\n",
       "dtype: object"
      ]
     },
     "execution_count": 24,
     "metadata": {},
     "output_type": "execute_result"
    }
   ],
   "source": [
    "## let us first print out the types of variables as detected by Python\n",
    "## notice that all categorical variables are considered as \"objects\" (i.e. String values) \n",
    "data_tips.dtypes\n",
    "\n"
   ]
  },
  {
   "cell_type": "code",
   "execution_count": 25,
   "metadata": {},
   "outputs": [
    {
     "data": {
      "text/html": [
       "<div>\n",
       "<style scoped>\n",
       "    .dataframe tbody tr th:only-of-type {\n",
       "        vertical-align: middle;\n",
       "    }\n",
       "\n",
       "    .dataframe tbody tr th {\n",
       "        vertical-align: top;\n",
       "    }\n",
       "\n",
       "    .dataframe thead th {\n",
       "        text-align: right;\n",
       "    }\n",
       "</style>\n",
       "<table border=\"1\" class=\"dataframe\">\n",
       "  <thead>\n",
       "    <tr style=\"text-align: right;\">\n",
       "      <th></th>\n",
       "      <th>total_bill</th>\n",
       "      <th>tip</th>\n",
       "      <th>size</th>\n",
       "    </tr>\n",
       "  </thead>\n",
       "  <tbody>\n",
       "    <tr>\n",
       "      <th>count</th>\n",
       "      <td>244.000000</td>\n",
       "      <td>244.000000</td>\n",
       "      <td>244.000000</td>\n",
       "    </tr>\n",
       "    <tr>\n",
       "      <th>mean</th>\n",
       "      <td>19.785943</td>\n",
       "      <td>2.998279</td>\n",
       "      <td>2.569672</td>\n",
       "    </tr>\n",
       "    <tr>\n",
       "      <th>std</th>\n",
       "      <td>8.902412</td>\n",
       "      <td>1.383638</td>\n",
       "      <td>0.951100</td>\n",
       "    </tr>\n",
       "    <tr>\n",
       "      <th>min</th>\n",
       "      <td>3.070000</td>\n",
       "      <td>1.000000</td>\n",
       "      <td>1.000000</td>\n",
       "    </tr>\n",
       "    <tr>\n",
       "      <th>25%</th>\n",
       "      <td>13.347500</td>\n",
       "      <td>2.000000</td>\n",
       "      <td>2.000000</td>\n",
       "    </tr>\n",
       "    <tr>\n",
       "      <th>50%</th>\n",
       "      <td>17.795000</td>\n",
       "      <td>2.900000</td>\n",
       "      <td>2.000000</td>\n",
       "    </tr>\n",
       "    <tr>\n",
       "      <th>75%</th>\n",
       "      <td>24.127500</td>\n",
       "      <td>3.562500</td>\n",
       "      <td>3.000000</td>\n",
       "    </tr>\n",
       "    <tr>\n",
       "      <th>max</th>\n",
       "      <td>50.810000</td>\n",
       "      <td>10.000000</td>\n",
       "      <td>6.000000</td>\n",
       "    </tr>\n",
       "  </tbody>\n",
       "</table>\n",
       "</div>"
      ],
      "text/plain": [
       "       total_bill         tip        size\n",
       "count  244.000000  244.000000  244.000000\n",
       "mean    19.785943    2.998279    2.569672\n",
       "std      8.902412    1.383638    0.951100\n",
       "min      3.070000    1.000000    1.000000\n",
       "25%     13.347500    2.000000    2.000000\n",
       "50%     17.795000    2.900000    2.000000\n",
       "75%     24.127500    3.562500    3.000000\n",
       "max     50.810000   10.000000    6.000000"
      ]
     },
     "execution_count": 25,
     "metadata": {},
     "output_type": "execute_result"
    }
   ],
   "source": [
    "# you can run the below code to see the first five observations \n",
    "data_tips.describe()\n",
    "\n",
    "######## IMPORTANT NOTE ###############\n",
    "## notice that the function describe() results statistics only for non-object variables\n",
    "##"
   ]
  },
  {
   "cell_type": "code",
   "execution_count": 26,
   "metadata": {},
   "outputs": [
    {
     "data": {
      "text/plain": [
       "(pandas.core.frame.DataFrame,\n",
       " (244, 7),\n",
       " Index(['total_bill', 'tip', 'sex', 'smoker', 'day', 'time', 'size'], dtype='object'))"
      ]
     },
     "execution_count": 26,
     "metadata": {},
     "output_type": "execute_result"
    }
   ],
   "source": [
    "# this function should return a tuple of 3 values: \n",
    "#the class of your dataset object,\n",
    "#the shape of the dataset and \n",
    "#the columns names\n",
    "def answer_3():\n",
    "    # write your code here:\n",
    "    # the type of the object data_tips \n",
    "    dataset_type=type(data_tips)\n",
    "    # the shape of data \n",
    "    shape=data_tips.shape\n",
    "    #variables in data\n",
    "    col_names=data_tips.columns\n",
    "   \n",
    "    return dataset_type,shape,col_names\n",
    "    \n",
    "answer_3()"
   ]
  },
  {
   "cell_type": "markdown",
   "metadata": {},
   "source": [
    "## Learn more about values encoding, and checking/filling missing ou null values \n",
    "* https://pbpython.com/categorical-encoding.html\n",
    "* https://www.geeksforgeeks.org/working-with-missing-data-in-pandas/\n",
    "* https://chartio.com/resources/tutorials/how-to-check-if-any-value-is-nan-in-a-pandas-dataframe/\n",
    "* https://www.datacamp.com/community/tutorials/categorical-data "
   ]
  },
  {
   "cell_type": "code",
   "execution_count": 27,
   "metadata": {},
   "outputs": [
    {
     "data": {
      "text/html": [
       "<div>\n",
       "<style scoped>\n",
       "    .dataframe tbody tr th:only-of-type {\n",
       "        vertical-align: middle;\n",
       "    }\n",
       "\n",
       "    .dataframe tbody tr th {\n",
       "        vertical-align: top;\n",
       "    }\n",
       "\n",
       "    .dataframe thead th {\n",
       "        text-align: right;\n",
       "    }\n",
       "</style>\n",
       "<table border=\"1\" class=\"dataframe\">\n",
       "  <thead>\n",
       "    <tr style=\"text-align: right;\">\n",
       "      <th></th>\n",
       "      <th>total_bill</th>\n",
       "      <th>tip</th>\n",
       "      <th>sex</th>\n",
       "      <th>smoker</th>\n",
       "      <th>day</th>\n",
       "      <th>time</th>\n",
       "      <th>size</th>\n",
       "    </tr>\n",
       "  </thead>\n",
       "  <tbody>\n",
       "    <tr>\n",
       "      <th>0</th>\n",
       "      <td>False</td>\n",
       "      <td>False</td>\n",
       "      <td>False</td>\n",
       "      <td>False</td>\n",
       "      <td>False</td>\n",
       "      <td>False</td>\n",
       "      <td>False</td>\n",
       "    </tr>\n",
       "    <tr>\n",
       "      <th>1</th>\n",
       "      <td>False</td>\n",
       "      <td>False</td>\n",
       "      <td>False</td>\n",
       "      <td>False</td>\n",
       "      <td>False</td>\n",
       "      <td>False</td>\n",
       "      <td>False</td>\n",
       "    </tr>\n",
       "    <tr>\n",
       "      <th>2</th>\n",
       "      <td>False</td>\n",
       "      <td>False</td>\n",
       "      <td>False</td>\n",
       "      <td>False</td>\n",
       "      <td>False</td>\n",
       "      <td>False</td>\n",
       "      <td>False</td>\n",
       "    </tr>\n",
       "    <tr>\n",
       "      <th>3</th>\n",
       "      <td>False</td>\n",
       "      <td>False</td>\n",
       "      <td>False</td>\n",
       "      <td>False</td>\n",
       "      <td>False</td>\n",
       "      <td>False</td>\n",
       "      <td>False</td>\n",
       "    </tr>\n",
       "    <tr>\n",
       "      <th>4</th>\n",
       "      <td>False</td>\n",
       "      <td>False</td>\n",
       "      <td>False</td>\n",
       "      <td>False</td>\n",
       "      <td>False</td>\n",
       "      <td>False</td>\n",
       "      <td>False</td>\n",
       "    </tr>\n",
       "    <tr>\n",
       "      <th>...</th>\n",
       "      <td>...</td>\n",
       "      <td>...</td>\n",
       "      <td>...</td>\n",
       "      <td>...</td>\n",
       "      <td>...</td>\n",
       "      <td>...</td>\n",
       "      <td>...</td>\n",
       "    </tr>\n",
       "    <tr>\n",
       "      <th>239</th>\n",
       "      <td>False</td>\n",
       "      <td>False</td>\n",
       "      <td>False</td>\n",
       "      <td>False</td>\n",
       "      <td>False</td>\n",
       "      <td>False</td>\n",
       "      <td>False</td>\n",
       "    </tr>\n",
       "    <tr>\n",
       "      <th>240</th>\n",
       "      <td>False</td>\n",
       "      <td>False</td>\n",
       "      <td>False</td>\n",
       "      <td>False</td>\n",
       "      <td>False</td>\n",
       "      <td>False</td>\n",
       "      <td>False</td>\n",
       "    </tr>\n",
       "    <tr>\n",
       "      <th>241</th>\n",
       "      <td>False</td>\n",
       "      <td>False</td>\n",
       "      <td>False</td>\n",
       "      <td>False</td>\n",
       "      <td>False</td>\n",
       "      <td>False</td>\n",
       "      <td>False</td>\n",
       "    </tr>\n",
       "    <tr>\n",
       "      <th>242</th>\n",
       "      <td>False</td>\n",
       "      <td>False</td>\n",
       "      <td>False</td>\n",
       "      <td>False</td>\n",
       "      <td>False</td>\n",
       "      <td>False</td>\n",
       "      <td>False</td>\n",
       "    </tr>\n",
       "    <tr>\n",
       "      <th>243</th>\n",
       "      <td>False</td>\n",
       "      <td>False</td>\n",
       "      <td>False</td>\n",
       "      <td>False</td>\n",
       "      <td>False</td>\n",
       "      <td>False</td>\n",
       "      <td>False</td>\n",
       "    </tr>\n",
       "  </tbody>\n",
       "</table>\n",
       "<p>244 rows × 7 columns</p>\n",
       "</div>"
      ],
      "text/plain": [
       "     total_bill    tip    sex  smoker    day   time   size\n",
       "0         False  False  False   False  False  False  False\n",
       "1         False  False  False   False  False  False  False\n",
       "2         False  False  False   False  False  False  False\n",
       "3         False  False  False   False  False  False  False\n",
       "4         False  False  False   False  False  False  False\n",
       "..          ...    ...    ...     ...    ...    ...    ...\n",
       "239       False  False  False   False  False  False  False\n",
       "240       False  False  False   False  False  False  False\n",
       "241       False  False  False   False  False  False  False\n",
       "242       False  False  False   False  False  False  False\n",
       "243       False  False  False   False  False  False  False\n",
       "\n",
       "[244 rows x 7 columns]"
      ]
     },
     "execution_count": 27,
     "metadata": {},
     "output_type": "execute_result"
    }
   ],
   "source": [
    "##In order to check null values in Pandas DataFrame, we use isnull() function \n",
    "##this function return dataframe of Boolean values which are True for NaN values.\n",
    "data_tips.isnull()\n",
    "#data_tips.isnull().sum()"
   ]
  },
  {
   "cell_type": "code",
   "execution_count": 28,
   "metadata": {},
   "outputs": [
    {
     "data": {
      "text/plain": [
       "total_bill    0\n",
       "tip           0\n",
       "sex           0\n",
       "smoker        0\n",
       "day           0\n",
       "time          0\n",
       "size          0\n",
       "dtype: int64"
      ]
     },
     "execution_count": 28,
     "metadata": {},
     "output_type": "execute_result"
    }
   ],
   "source": [
    "##Check for missing/null values : return the numbr of missing values in each column\n",
    "data_tips.isnull().sum()"
   ]
  },
  {
   "cell_type": "code",
   "execution_count": 29,
   "metadata": {},
   "outputs": [],
   "source": [
    "# a description for each variable :\n",
    "# 'total_bill' : total to pay by the customer \n",
    "#'tip' : the tip value\n",
    "#'sex' : the gender of the customer\n",
    "#'smoker' :  customer smokes or not\n",
    "#'day' : 4 days ( from thursday to sunday)\n",
    "#'time' : either dinner or lunch\n",
    "#'size' : the size of the party"
   ]
  },
  {
   "cell_type": "markdown",
   "metadata": {},
   "source": [
    "### Question 4"
   ]
  },
  {
   "cell_type": "markdown",
   "metadata": {},
   "source": [
    "Tip is usually referred to by percentage points, or as a rate. This enables a normalization over the total bill and a comparison of values across other variables. The question is now to create a \"tip rate\" variable and to add it to the original dataset."
   ]
  },
  {
   "cell_type": "code",
   "execution_count": 3,
   "metadata": {},
   "outputs": [
    {
     "data": {
      "text/html": [
       "<div>\n",
       "<style scoped>\n",
       "    .dataframe tbody tr th:only-of-type {\n",
       "        vertical-align: middle;\n",
       "    }\n",
       "\n",
       "    .dataframe tbody tr th {\n",
       "        vertical-align: top;\n",
       "    }\n",
       "\n",
       "    .dataframe thead th {\n",
       "        text-align: right;\n",
       "    }\n",
       "</style>\n",
       "<table border=\"1\" class=\"dataframe\">\n",
       "  <thead>\n",
       "    <tr style=\"text-align: right;\">\n",
       "      <th></th>\n",
       "      <th>total_bill</th>\n",
       "      <th>tip</th>\n",
       "      <th>sex</th>\n",
       "      <th>smoker</th>\n",
       "      <th>day</th>\n",
       "      <th>time</th>\n",
       "      <th>size</th>\n",
       "      <th>tip_rate</th>\n",
       "    </tr>\n",
       "  </thead>\n",
       "  <tbody>\n",
       "    <tr>\n",
       "      <th>239</th>\n",
       "      <td>29.03</td>\n",
       "      <td>5.92</td>\n",
       "      <td>Male</td>\n",
       "      <td>No</td>\n",
       "      <td>Sat</td>\n",
       "      <td>Dinner</td>\n",
       "      <td>3</td>\n",
       "      <td>0.203927</td>\n",
       "    </tr>\n",
       "    <tr>\n",
       "      <th>240</th>\n",
       "      <td>27.18</td>\n",
       "      <td>2.00</td>\n",
       "      <td>Female</td>\n",
       "      <td>Yes</td>\n",
       "      <td>Sat</td>\n",
       "      <td>Dinner</td>\n",
       "      <td>2</td>\n",
       "      <td>0.073584</td>\n",
       "    </tr>\n",
       "    <tr>\n",
       "      <th>241</th>\n",
       "      <td>22.67</td>\n",
       "      <td>2.00</td>\n",
       "      <td>Male</td>\n",
       "      <td>Yes</td>\n",
       "      <td>Sat</td>\n",
       "      <td>Dinner</td>\n",
       "      <td>2</td>\n",
       "      <td>0.088222</td>\n",
       "    </tr>\n",
       "    <tr>\n",
       "      <th>242</th>\n",
       "      <td>17.82</td>\n",
       "      <td>1.75</td>\n",
       "      <td>Male</td>\n",
       "      <td>No</td>\n",
       "      <td>Sat</td>\n",
       "      <td>Dinner</td>\n",
       "      <td>2</td>\n",
       "      <td>0.098204</td>\n",
       "    </tr>\n",
       "    <tr>\n",
       "      <th>243</th>\n",
       "      <td>18.78</td>\n",
       "      <td>3.00</td>\n",
       "      <td>Female</td>\n",
       "      <td>No</td>\n",
       "      <td>Thur</td>\n",
       "      <td>Dinner</td>\n",
       "      <td>2</td>\n",
       "      <td>0.159744</td>\n",
       "    </tr>\n",
       "  </tbody>\n",
       "</table>\n",
       "</div>"
      ],
      "text/plain": [
       "     total_bill   tip     sex smoker   day    time  size  tip_rate\n",
       "239       29.03  5.92    Male     No   Sat  Dinner     3  0.203927\n",
       "240       27.18  2.00  Female    Yes   Sat  Dinner     2  0.073584\n",
       "241       22.67  2.00    Male    Yes   Sat  Dinner     2  0.088222\n",
       "242       17.82  1.75    Male     No   Sat  Dinner     2  0.098204\n",
       "243       18.78  3.00  Female     No  Thur  Dinner     2  0.159744"
      ]
     },
     "execution_count": 3,
     "metadata": {},
     "output_type": "execute_result"
    }
   ],
   "source": [
    "#This function should return a dataframe including the new variable tip_rate\n",
    "def answer_4():\n",
    "    # write your code here\n",
    "    data_tips['tip_rate']=data_tips['tip']/data_tips['total_bill']\n",
    "\n",
    "    return data_tips\n",
    "answer_4().tail()"
   ]
  },
  {
   "cell_type": "markdown",
   "metadata": {},
   "source": [
    "##### Home work"
   ]
  },
  {
   "cell_type": "markdown",
   "metadata": {},
   "source": [
    "***\n",
    "***\n",
    "# <font color='red'> Section 2. Descriptive statistics and visualisation</font>\n",
    "***\n",
    "Any study, with any complexity level, must be preceded by an exploratory analysis. This Lab will introduce descriptive statistics tools which aim to summarize a dataset with quantitative main features. This is a first way to become familiar with the data and to detect some sources of problem.\n",
    "Descriptive statistics are statistics that quantitatively describe and summarise features of data: distribution, central tendency and dispersion. \n",
    "\n",
    "\n",
    "- For quantitative (numerical) variables, two main aspects are considered: central tendency (e.g. mean, median and mode some times) and variability (standard deviation, variance, minimum, maximum values, kurtosis and skewness). \n",
    "- For qualitative (categorical) variables, mode and frequency analysis are considered.\n",
    "\n",
    "\n",
    "However, numerical calculation is not enough and may in some cases lead to wrong conclusions. Data visualization is then of great help and this Lab will also illustrate the power of (some) graphical representations.\n",
    "\n",
    "## <font color='red'> Section 2.1. Univariate statistics: describing a single variable </font>\n",
    "\n",
    "Univariate statistics involve only one variable. The appropriate statistic depends on the level of measurement. This analysis provides a summary statistics section, or also called an exploratory data analysis.\n",
    "- Nominal variables are described by frequency table and mode(s). \n",
    "- For ordinal variables the median can be calculated as a measure of central tendency and the range as a measure of dispersion. \n",
    "- For interval level variables, the mean, median, and mode are used to characterize the central tendency, quantiles characterize distribution, range and measures of spread such as the variance and standard deviation are used to characterize dispersion. \n",
    "- For ratio level variables, the geometric mean and harmonic mean can be used as measures of central tendency and the coefficient of variation as a measure of dispersion. F\n",
    "- or interval and ratio level variables the shape of the distribution may also be described via indices such as skewness and kurtosis. \n",
    "\n",
    "**Plots are usefull tools to show the distribution for all types of variable.**"
   ]
  },
  {
   "cell_type": "markdown",
   "metadata": {},
   "source": [
    "### Question 5"
   ]
  },
  {
   "cell_type": "markdown",
   "metadata": {},
   "source": [
    "Explore univariate summaries with the describe( ) function.\n",
    "\n",
    "Notice that for object features (e.g. strings or timestamps) the result of *descibe* will include count, unique, top, and freq. The top is the most common value. The freq is the most common value’s frequency. Learn more about the describe( ) function here : https://pandas.pydata.org/docs/reference/api/pandas.DataFrame.describe.html"
   ]
  },
  {
   "cell_type": "code",
   "execution_count": 31,
   "metadata": {},
   "outputs": [
    {
     "data": {
      "text/plain": [
       "total_bill    float64\n",
       "tip           float64\n",
       "sex            object\n",
       "smoker         object\n",
       "day            object\n",
       "time           object\n",
       "size            int64\n",
       "tip_rate      float64\n",
       "dtype: object"
      ]
     },
     "execution_count": 31,
     "metadata": {},
     "output_type": "execute_result"
    }
   ],
   "source": [
    "## let us first print out the types of variables as detected by Python\n",
    "## notice that all categorical variables are considered as \"objects\" (i.e. String values) \n",
    "data_tips.dtypes"
   ]
  },
  {
   "cell_type": "code",
   "execution_count": 32,
   "metadata": {},
   "outputs": [
    {
     "data": {
      "text/plain": [
       "(       total_bill         tip        size    tip_rate\n",
       " count  244.000000  244.000000  244.000000  244.000000\n",
       " mean    19.785943    2.998279    2.569672    0.160803\n",
       " std      8.902412    1.383638    0.951100    0.061072\n",
       " min      3.070000    1.000000    1.000000    0.035638\n",
       " 25%     13.347500    2.000000    2.000000    0.129127\n",
       " 50%     17.795000    2.900000    2.000000    0.154770\n",
       " 75%     24.127500    3.562500    3.000000    0.191475\n",
       " max     50.810000   10.000000    6.000000    0.710345,\n",
       "          sex smoker  day    time\n",
       " count    244    244  244     244\n",
       " unique     2      2    4       2\n",
       " top     Male     No  Sat  Dinner\n",
       " freq     157    151   87     176)"
      ]
     },
     "execution_count": 32,
     "metadata": {},
     "output_type": "execute_result"
    }
   ],
   "source": [
    "#This function should return summary about numerical and categorical features\n",
    "# use the output of answer4() for your this question\n",
    "def answer_5():\n",
    "    # write your code here:\n",
    "    num_des=answer_4().describe() ## statistics only for numerical features\n",
    "    cate_des=answer_4().describe(include = 'object') ## explicitly ask to do statistics for object (string) features\n",
    "    return num_des,cate_des\n",
    "    #return cate_des\n",
    "answer_5()"
   ]
  },
  {
   "cell_type": "markdown",
   "metadata": {},
   "source": [
    "Note that the max values for totbill and tiprate are far from the mean and median values. We have to explore these cases that may indicate possible outliers.\n",
    "\n",
    "The number of customers per party is around 2-3 (from 1 to 6 persons). \n",
    "\n"
   ]
  },
  {
   "cell_type": "markdown",
   "metadata": {},
   "source": [
    "### Question 6"
   ]
  },
  {
   "cell_type": "markdown",
   "metadata": {},
   "source": [
    "Plot a representation of the days distribution in the dataset and comment it.\n",
    "\n",
    "For such numerical variables , we can use Histogram which consists of adjacent bins (rectangles, erected over discrete intervals), with an area equal to the frequency of the observations in the interval.\n",
    "\n",
    "For categorical variables, we can use count plot. A count plot can be thought of as a histogram across a categorical, instead of quantitative, variable."
   ]
  },
  {
   "cell_type": "code",
   "execution_count": 33,
   "metadata": {},
   "outputs": [
    {
     "data": {
      "text/plain": [
       "<AxesSubplot:xlabel='total_bill', ylabel='Count'>"
      ]
     },
     "execution_count": 33,
     "metadata": {},
     "output_type": "execute_result"
    },
    {
     "data": {
      "image/png": "[encoded data removed]",
      "text/plain": [
       "<Figure size 432x288 with 1 Axes>"
      ]
     },
     "metadata": {
      "needs_background": "light"
     },
     "output_type": "display_data"
    }
   ],
   "source": [
    "def answer_6_0():\n",
    "    # write your code here\n",
    "    return sns.histplot(x='total_bill',data=data_tips)\n",
    "\n",
    "\n",
    "answer_6_0()  \n",
    "  "
   ]
  },
  {
   "cell_type": "code",
   "execution_count": 34,
   "metadata": {},
   "outputs": [
    {
     "data": {
      "text/plain": [
       "<AxesSubplot:xlabel='tip_rate', ylabel='Count'>"
      ]
     },
     "execution_count": 34,
     "metadata": {},
     "output_type": "execute_result"
    },
    {
     "data": {
      "image/png": "[encoded data removed]",
      "text/plain": [
       "<Figure size 432x288 with 1 Axes>"
      ]
     },
     "metadata": {
      "needs_background": "light"
     },
     "output_type": "display_data"
    }
   ],
   "source": [
    "def answer_6_00():\n",
    "    # write your code here\n",
    "    return sns.histplot(x='tip_rate',data=data_tips)\n",
    "\n",
    "\n",
    "answer_6_00()  \n",
    "  "
   ]
  },
  {
   "cell_type": "code",
   "execution_count": 35,
   "metadata": {},
   "outputs": [
    {
     "data": {
      "text/plain": [
       "<AxesSubplot:xlabel='day', ylabel='count'>"
      ]
     },
     "execution_count": 35,
     "metadata": {},
     "output_type": "execute_result"
    },
    {
     "data": {
      "image/png": "[encoded data removed]",
      "text/plain": [
       "<Figure size 432x288 with 1 Axes>"
      ]
     },
     "metadata": {
      "needs_background": "light"
     },
     "output_type": "display_data"
    }
   ],
   "source": [
    "# this function should return a plot of the days distribution, give a comment below your plot\n",
    "def answer_6_1():\n",
    "    # write your code here\n",
    "    return sns.countplot(x='day',data=data_tips)\n",
    "\n",
    "\n",
    "answer_6_1()  \n",
    "  "
   ]
  },
  {
   "cell_type": "code",
   "execution_count": 36,
   "metadata": {},
   "outputs": [
    {
     "data": {
      "text/plain": [
       "<AxesSubplot:xlabel='smoker', ylabel='count'>"
      ]
     },
     "execution_count": 36,
     "metadata": {},
     "output_type": "execute_result"
    },
    {
     "data": {
      "image/png": "[encoded data removed]",
      "text/plain": [
       "<Figure size 432x288 with 1 Axes>"
      ]
     },
     "metadata": {
      "needs_background": "light"
     },
     "output_type": "display_data"
    }
   ],
   "source": [
    "\n",
    "\n",
    "def answer_6_2():\n",
    "    # write your code here\n",
    "    return sns.countplot(x='smoker',data=data_tips)\n",
    "\n",
    "\n",
    "answer_6_2()  \n",
    " "
   ]
  },
  {
   "cell_type": "code",
   "execution_count": 37,
   "metadata": {},
   "outputs": [
    {
     "data": {
      "text/plain": [
       "<AxesSubplot:xlabel='time', ylabel='count'>"
      ]
     },
     "execution_count": 37,
     "metadata": {},
     "output_type": "execute_result"
    },
    {
     "data": {
      "image/png": "[encoded data removed]",
      "text/plain": [
       "<Figure size 432x288 with 1 Axes>"
      ]
     },
     "metadata": {
      "needs_background": "light"
     },
     "output_type": "display_data"
    }
   ],
   "source": [
    "\n",
    "\n",
    "def answer_6_3():\n",
    "    # write your code here\n",
    "    return sns.countplot(x='time',data=data_tips)\n",
    "\n",
    "\n",
    "\n",
    " \n",
    "answer_6_3()  \n"
   ]
  },
  {
   "cell_type": "code",
   "execution_count": 38,
   "metadata": {},
   "outputs": [
    {
     "data": {
      "text/plain": [
       "<AxesSubplot:xlabel='sex', ylabel='count'>"
      ]
     },
     "execution_count": 38,
     "metadata": {},
     "output_type": "execute_result"
    },
    {
     "data": {
      "image/png": "[encoded data removed]",
      "text/plain": [
       "<Figure size 432x288 with 1 Axes>"
      ]
     },
     "metadata": {
      "needs_background": "light"
     },
     "output_type": "display_data"
    }
   ],
   "source": [
    "\n",
    "\n",
    "def answer_6_4():\n",
    "    # write your code here\n",
    "    return sns.countplot(x='sex',data=data_tips)\n",
    "\n",
    "  \n",
    "answer_6_4()  "
   ]
  },
  {
   "cell_type": "markdown",
   "metadata": {},
   "source": [
    "<mark>Let us comment the above plots</mark> \n",
    "- there are less females that pay the bill than males, \n",
    "- less smokers than non-smokers, \n",
    "- most parties occur on week-ends and friday has very few parties (please confirm with your own figures)\n",
    "- there are much more dining parties at night than during the day."
   ]
  },
  {
   "cell_type": "markdown",
   "metadata": {},
   "source": [
    "##  <font color='red'> Section 2.2. Bivariate statistics: describing correlation between two variables </font>\n",
    "\n",
    "- Bivariate analysis involves the analysis of two variables for the purpose of determining the empirical relationship between them. \n",
    "\n",
    "- Common forms involve creating a percentage table, a scatterplot graph and computing a simple correlation coefficient. \n",
    "\n",
    "- The types of analysis for a particular pair of variables should be done in accordance with the level of measurement of the two variables.\n",
    "\n",
    "\n",
    "### Question 7 "
   ]
  },
  {
   "cell_type": "markdown",
   "metadata": {},
   "source": [
    "Prepare a plot of the amount of tips against the total bill. What can you see ? Test the correlation\n",
    "between the two variables.\n",
    "\n",
    "\n",
    "Notice : **sns.regplot( )** function is used to plot data and a linear regression model fit.\n",
    "\n",
    "We can say from the figure below that tip correlate strongly with the total_bill. As shown  we can draw a line that can approximate the relationship between them."
   ]
  },
  {
   "cell_type": "code",
   "execution_count": 39,
   "metadata": {},
   "outputs": [
    {
     "data": {
      "text/plain": [
       "<AxesSubplot:xlabel='total_bill', ylabel='tip'>"
      ]
     },
     "execution_count": 39,
     "metadata": {},
     "output_type": "execute_result"
    },
    {
     "data": {
      "image/png": "[encoded data removed]",
      "text/plain": [
       "<Figure size 432x288 with 1 Axes>"
      ]
     },
     "metadata": {
      "needs_background": "light"
     },
     "output_type": "display_data"
    }
   ],
   "source": [
    "# this function should return a plot of tips against the total_bill\n",
    "def answer_7(): \n",
    "    # write your code here\n",
    "    ax = sns.regplot(x=\"total_bill\", y=\"tip\", data=data_tips)\n",
    "    return ax\n",
    "answer_7()"
   ]
  },
  {
   "cell_type": "code",
   "execution_count": 10,
   "metadata": {},
   "outputs": [
    {
     "data": {
      "text/plain": [
       "<AxesSubplot:xlabel='tip_rate', ylabel='size'>"
      ]
     },
     "execution_count": 10,
     "metadata": {},
     "output_type": "execute_result"
    },
    {
     "data": {
      "image/png": "[encoded data removed]",
      "text/plain": [
       "<Figure size 432x288 with 1 Axes>"
      ]
     },
     "metadata": {
      "needs_background": "light"
     },
     "output_type": "display_data"
    }
   ],
   "source": [
    "# this function should return a plot of tips against the total_bill\n",
    "def answer_7_0(): \n",
    "    # write your code here\n",
    "    ax = sns.regplot(x=\"tip_rate\", y=\"size\", data=data_tips)\n",
    "    return ax\n",
    "answer_7_0()"
   ]
  },
  {
   "cell_type": "markdown",
   "metadata": {},
   "source": [
    "***\n",
    "## Examine the linear relationship between variables (Pearson)\n",
    "Use the Pearson correlation coefficient to examine the strength and direction of the linear relationship between two continuous variables.\n",
    "\n",
    "\n",
    "The correlation coefficient can range in value from −1 to +1. The larger the absolute value of the coefficient, the stronger the relationship between the variables.\n",
    "\n",
    "For the Pearson correlation, an absolute value of 1 indicates a perfect linear relationship. A correlation close to 0 indicates no linear relationship between the variables. \n",
    "\n",
    "## Determine whether the correlation coefficient is significant\n",
    "\n",
    "To determine whether the correlation between variables is significant, compare the p-value to your significance level. Usually, a significance level (denoted as α or alpha) of 0.05 works well. An α of 0.05 indicates that the risk of concluding that a correlation exists—when, actually, no correlation exists—is 5%. The p-value tells you whether the correlation coefficient is significantly different from 0. (A coefficient of 0 indicates that there is no linear relationship.)   So, for α=0.05\n",
    "- P-value ≤ α: The correlation is statistically significant\n",
    "If the p-value is less than or equal to the significance level, then you can conclude that the correlation is different from 0.\n",
    "- P-value > α: The correlation is not statistically significant\n",
    "If the p-value is greater than the significance level, then you cannot conclude that the correlation is different from 0.\n",
    "\n",
    "Let us apply this method to find the correlation and the significance between tips and total_bill features :\n",
    "*To do this, we use the library **scipy.stats** that contains a large number of probability distributions as well as a growing library of statistical functions.*"
   ]
  },
  {
   "cell_type": "code",
   "execution_count": 40,
   "metadata": {},
   "outputs": [
    {
     "data": {
      "text/plain": [
       "(0.6757341092113647, 6.6924706468630016e-34)"
      ]
     },
     "execution_count": 40,
     "metadata": {},
     "output_type": "execute_result"
    }
   ],
   "source": [
    "# these lines of code tests the correlation between our two variables: total_bill and tip\n",
    "from scipy.stats import pearsonr,spearmanr\n",
    "pearsonr(data_tips['tip'],data_tips['total_bill'])"
   ]
  },
  {
   "cell_type": "code",
   "execution_count": 41,
   "metadata": {},
   "outputs": [
    {
     "data": {
      "text/plain": [
       "SpearmanrResult(correlation=0.6789681219001009, pvalue=2.501158440923619e-34)"
      ]
     },
     "execution_count": 41,
     "metadata": {},
     "output_type": "execute_result"
    }
   ],
   "source": [
    "# seconde way to test correlation using spearmanr test. The difference between spearmanr and pearsonr test is that spearmanr can\n",
    "# be used for ordinal features also. Visit the link given above for more info.\n",
    "spearmanr(data_tips['tip'],data_tips['total_bill'])"
   ]
  },
  {
   "cell_type": "markdown",
   "metadata": {},
   "source": [
    "\n",
    "<mark> The statistical test for the correlation is significant because the  p-value is less than 0.05 </mark>"
   ]
  },
  {
   "cell_type": "markdown",
   "metadata": {},
   "source": [
    "We can say that  tip correlate strongly with the total_bill. As shown above we can draw a line that can approximate the relationship between them.\n"
   ]
  },
  {
   "cell_type": "markdown",
   "metadata": {},
   "source": [
    "For more information about test for correlation, you can visit the web page : http://support.minitab.com/en-us/minitab-express/1/help-and-how-to/modeling-statistics/regression/how-to/correlation/interpret-the-results/\n",
    "\n",
    "**Notice**: The Pearson correlation coefficient is the most widely used. It measures the strength of the linear relationship between normally distributed variables. When the variables are not normally distributed or the relationship between the variables is not linear, it may be more appropriate to use the Spearman rank correlation method.\n",
    "There is a very interesting paper about the differences between these two correlation coefficients on the same sets of data:\n",
    "http://geoinfo.amu.edu.pl/qg/archives/2011/QG302_087-093.pdf"
   ]
  },
  {
   "cell_type": "markdown",
   "metadata": {},
   "source": [
    "***"
   ]
  },
  {
   "cell_type": "markdown",
   "metadata": {},
   "source": [
    "## Understanding boxplots\n",
    "\n",
    "Boxplots are represented as follows: <img src=\"data/boxplot.png\" width=700 height=700 />\n",
    "Here are some links to learn more about boxplots :\n",
    " * https://towardsdatascience.com/understanding-boxplots-5e2df7bcbd51 \n",
    " * https://seaborn.pydata.org/generated/seaborn.boxplot.html\n",
    "\n",
    "\n",
    "### Question 8\n",
    "Draw and interpret three boxplots : \n",
    "\n",
    "    1. the distribution of the total bill,\n",
    "    2. the distribution of tips;\n",
    "    3. the distributions of tips vs. days.\n",
    "    \n",
    "   "
   ]
  },
  {
   "cell_type": "code",
   "execution_count": 4,
   "metadata": {},
   "outputs": [
    {
     "name": "stderr",
     "output_type": "stream",
     "text": [
      "/Users/linafahed/opt/anaconda3/lib/python3.8/site-packages/seaborn/_core.py:1303: UserWarning: Vertical orientation ignored with only `x` specified.\n",
      "  warnings.warn(single_var_warning.format(\"Vertical\", \"x\"))\n",
      "/Users/linafahed/opt/anaconda3/lib/python3.8/site-packages/seaborn/_core.py:1303: UserWarning: Vertical orientation ignored with only `x` specified.\n",
      "  warnings.warn(single_var_warning.format(\"Vertical\", \"x\"))\n",
      "/Users/linafahed/opt/anaconda3/lib/python3.8/site-packages/seaborn/_core.py:1303: UserWarning: Vertical orientation ignored with only `x` specified.\n",
      "  warnings.warn(single_var_warning.format(\"Vertical\", \"x\"))\n"
     ]
    },
    {
     "data": {
      "text/plain": [
       "(<AxesSubplot:xlabel='total_bill'>,\n",
       " <AxesSubplot:xlabel='tip'>,\n",
       " <AxesSubplot:xlabel='tip_rate'>,\n",
       " <AxesSubplot:xlabel='tip', ylabel='day'>,\n",
       " <AxesSubplot:xlabel='tip_rate', ylabel='day'>)"
      ]
     },
     "execution_count": 4,
     "metadata": {},
     "output_type": "execute_result"
    },
    {
     "data": {
      "image/png": "[encoded data removed]",
      "text/plain": [
       "<Figure size 432x288 with 1 Axes>"
      ]
     },
     "metadata": {
      "needs_background": "light"
     },
     "output_type": "display_data"
    },
    {
     "data": {
      "image/png": "[encoded data removed]",
      "text/plain": [
       "<Figure size 432x288 with 1 Axes>"
      ]
     },
     "metadata": {
      "needs_background": "light"
     },
     "output_type": "display_data"
    },
    {
     "data": {
      "image/png": "[encoded data removed]",
      "text/plain": [
       "<Figure size 432x288 with 1 Axes>"
      ]
     },
     "metadata": {
      "needs_background": "light"
     },
     "output_type": "display_data"
    },
    {
     "data": {
      "image/png": "[encoded data removed]",
      "text/plain": [
       "<Figure size 432x288 with 1 Axes>"
      ]
     },
     "metadata": {
      "needs_background": "light"
     },
     "output_type": "display_data"
    },
    {
     "data": {
      "image/png": "[encoded data removed]",
      "text/plain": [
       "<Figure size 432x288 with 1 Axes>"
      ]
     },
     "metadata": {
      "needs_background": "light"
     },
     "output_type": "display_data"
    }
   ],
   "source": [
    "def answer_8():\n",
    "    # write your code here\n",
    "    plt.figure()\n",
    "    boxplot_total_bill = sns.boxplot(x= 'total_bill',data=data_tips,orient='v')\n",
    "    plt.figure()\n",
    "    boxplot_tip =sns.boxplot(x= 'tip',data=data_tips,orient='v')\n",
    "    plt.figure()\n",
    "    boxplot_tip_rate =sns.boxplot(x= 'tip_rate',data=data_tips,orient='v')## tiprate is more important than tip\n",
    "    plt.figure()\n",
    "    boxplot_tip_vs_day = sns.boxplot(x= 'tip',y='day',data=data_tips)\n",
    "    plt.figure()\n",
    "    boxplot_tip_rate_vs_day = sns.boxplot(x= 'tip_rate',y='day',data=data_tips)\n",
    "    return boxplot_total_bill,boxplot_tip,boxplot_tip_rate,boxplot_tip_vs_day,boxplot_tip_rate_vs_day\n",
    "answer_8()"
   ]
  },
  {
   "cell_type": "code",
   "execution_count": 9,
   "metadata": {},
   "outputs": [
    {
     "name": "stderr",
     "output_type": "stream",
     "text": [
      "/Users/linafahed/opt/anaconda3/lib/python3.8/site-packages/seaborn/_core.py:1303: UserWarning: Vertical orientation ignored with only `x` specified.\n",
      "  warnings.warn(single_var_warning.format(\"Vertical\", \"x\"))\n"
     ]
    },
    {
     "data": {
      "text/plain": [
       "<AxesSubplot:xlabel='size'>"
      ]
     },
     "execution_count": 9,
     "metadata": {},
     "output_type": "execute_result"
    },
    {
     "data": {
      "image/png": "[encoded data removed]",
      "text/plain": [
       "<Figure size 432x288 with 1 Axes>"
      ]
     },
     "metadata": {
      "needs_background": "light"
     },
     "output_type": "display_data"
    }
   ],
   "source": [
    "def answer_8_0():\n",
    "    # write your code here\n",
    "    \n",
    "    \n",
    "    plt.figure()\n",
    "    boxplot_size =sns.boxplot(x= 'size',data=data_tips,orient='v')\n",
    "    return boxplot_size\n",
    "answer_8_0()"
   ]
  },
  {
   "cell_type": "markdown",
   "metadata": {
    "collapsed": true
   },
   "source": [
    "Summary Statistics:\n",
    "- Clearly some outliers can be observed, especially on saturday and tips’s rate. Some further investi- gation is needed.\n",
    "- The tips at the restaurant are around 15-16% of the bill, with fairly low total bills in average (a little under \\\\$20). The shape of the data is skewed to the right. \n",
    "- All in all, it is possible to conclude that the restaurant is not expensive. However note that the max values for total_bill and tip_rate are far from the mean and median values. We have to explore these cases. It indicates possible outliers (remember: no missing values, no obvious errors in format and values does not mean no issues).\n",
    "\n",
    "\n",
    "<mark>Comment more the above boxplots... Let your comment here: \n",
    "- The presence of outliers in all plots<mark>"
   ]
  },
  {
   "cell_type": "markdown",
   "metadata": {},
   "source": [
    "### Question 9"
   ]
  },
  {
   "cell_type": "markdown",
   "metadata": {},
   "source": [
    "Draw an histogram of tips. What can you say about the shape of the data ? Is this restaurant\n",
    "expensive ?  plot 6 histograms with increasing numbers of breaks.\n",
    "\n",
    "Learn more about histograms in the matplot package here : https://matplotlib.org/stable/api/_as_gen/matplotlib.pyplot.hist.html\n"
   ]
  },
  {
   "cell_type": "code",
   "execution_count": 43,
   "metadata": {},
   "outputs": [
    {
     "data": {
      "image/png": "[encoded data removed]",
      "text/plain": [
       "<Figure size 432x288 with 1 Axes>"
      ]
     },
     "metadata": {
      "needs_background": "light"
     },
     "output_type": "display_data"
    },
    {
     "data": {
      "image/png": "[encoded data removed]",
      "text/plain": [
       "<Figure size 432x288 with 1 Axes>"
      ]
     },
     "metadata": {
      "needs_background": "light"
     },
     "output_type": "display_data"
    },
    {
     "data": {
      "image/png": "[encoded data removed]",
      "text/plain": [
       "<Figure size 432x288 with 1 Axes>"
      ]
     },
     "metadata": {
      "needs_background": "light"
     },
     "output_type": "display_data"
    },
    {
     "data": {
      "image/png": "[encoded data removed]",
      "text/plain": [
       "<Figure size 432x288 with 1 Axes>"
      ]
     },
     "metadata": {
      "needs_background": "light"
     },
     "output_type": "display_data"
    },
    {
     "data": {
      "image/png": "[encoded data removed]",
      "text/plain": [
       "<Figure size 432x288 with 1 Axes>"
      ]
     },
     "metadata": {
      "needs_background": "light"
     },
     "output_type": "display_data"
    }
   ],
   "source": [
    "#in histograms, \"bin\" parameter is set to 10 by default\n",
    "# bin defines the number of equal-width bins in the range.\n",
    "def answer_9():\n",
    "    # write your code here\n",
    "    #plt.subplot(nrows=2,ncols=3)\n",
    "    for i in range(6,16,2):\n",
    "        plt.figure()\n",
    "        plt.hist(x='tip',data=data_tips,bins=i)\n",
    "        plt.axvline(data_tips['tip'].mean(),color='red') # add the mean value of tip to our plots\n",
    "        plt.title('histogram for bins='+str(i))\n",
    "answer_9()"
   ]
  },
  {
   "cell_type": "markdown",
   "metadata": {},
   "source": [
    "<mark>For bins=10 : The distribution is quite normal but presents some skewness to the right(positive skew)</mark>\n",
    "For bin = 14, we get a a bimodal histogram (it is just a histogram with two obvious relative modes, or data peaks)\n",
    "\n",
    "The 1\\\\$ bin size shows that the distribution of tips is skewed to the right, which shows that most tips are low, around 2-3\\\\$, and that there are few larger tips. There is an interesting fact that appears with the 0.1\\\\$ bin size where the distribution is bimodal with peaks at full dollar and half-dollar and let us think that there is a tendency to round the tips."
   ]
  },
  {
   "cell_type": "markdown",
   "metadata": {},
   "source": [
    "### Question 10"
   ]
  },
  {
   "cell_type": "markdown",
   "metadata": {},
   "source": [
    "Display the counts (proportions) for Gender of the Bill Payer and Smoking Parties. Do the same\n",
    "for time of the day (dinner or lunch) and day of the week"
   ]
  },
  {
   "cell_type": "code",
   "execution_count": 44,
   "metadata": {},
   "outputs": [
    {
     "data": {
      "text/plain": [
       "(<AxesSubplot:ylabel='smoker'>, <AxesSubplot:ylabel='day'>)"
      ]
     },
     "execution_count": 44,
     "metadata": {},
     "output_type": "execute_result"
    },
    {
     "data": {
      "image/png": "[encoded data removed]",
      "text/plain": [
       "<Figure size 432x288 with 1 Axes>"
      ]
     },
     "metadata": {
      "needs_background": "light"
     },
     "output_type": "display_data"
    },
    {
     "data": {
      "image/png": "[encoded data removed]",
      "text/plain": [
       "<Figure size 432x288 with 1 Axes>"
      ]
     },
     "metadata": {
      "needs_background": "light"
     },
     "output_type": "display_data"
    }
   ],
   "source": [
    "def answer_11():\n",
    "    # write your code here\n",
    "    ax1=pd.crosstab(data_tips.smoker,data_tips.sex).plot.barh(stacked=True)\n",
    "    ax2=pd.crosstab(data_tips.day,data_tips.time).plot.barh(stacked=True)\n",
    "\n",
    "    return ax1,ax2\n",
    "answer_11()"
   ]
  },
  {
   "cell_type": "code",
   "execution_count": 11,
   "metadata": {},
   "outputs": [
    {
     "data": {
      "text/plain": [
       "(<AxesSubplot:ylabel='row_0'>, <AxesSubplot:ylabel='row_0'>)"
      ]
     },
     "execution_count": 11,
     "metadata": {},
     "output_type": "execute_result"
    },
    {
     "data": {
      "image/png": "[encoded data removed]",
      "text/plain": [
       "<Figure size 432x288 with 1 Axes>"
      ]
     },
     "metadata": {
      "needs_background": "light"
     },
     "output_type": "display_data"
    },
    {
     "data": {
      "image/png": "[encoded data removed]",
      "text/plain": [
       "<Figure size 432x288 with 1 Axes>"
      ]
     },
     "metadata": {
      "needs_background": "light"
     },
     "output_type": "display_data"
    }
   ],
   "source": [
    "def answer_11_0():\n",
    "    # write your code here\n",
    "    ax1=pd.crosstab(data_tips.size,data_tips.sex).plot.barh(stacked=True)\n",
    "    ax2=pd.crosstab(data_tips.size,data_tips.time).plot.barh(stacked=True)\n",
    "\n",
    "    return ax1,ax2\n",
    "answer_11_0()"
   ]
  },
  {
   "cell_type": "markdown",
   "metadata": {},
   "source": [
    "### Question 11"
   ]
  },
  {
   "cell_type": "markdown",
   "metadata": {},
   "source": [
    "Who pay mostly the bills ? men or women ? and when ? Try to visualise the conditional distributions\n",
    "of Sex given the day of the week, with a mosaic plot"
   ]
  },
  {
   "cell_type": "code",
   "execution_count": 45,
   "metadata": {},
   "outputs": [
    {
     "data": {
      "text/plain": [
       "(<Figure size 432x288 with 3 Axes>,\n",
       " {('Sun', 'Female'): (0.0, 0.0, 0.3068723249616409, 0.2360552544151075),\n",
       "  ('Sun', 'Male'): (0.0,\n",
       "   0.23937751355132011,\n",
       "   0.3068723249616409,\n",
       "   0.7606224864486798),\n",
       "  ('Sat', 'Female'): (0.3117984333360252,\n",
       "   0.0,\n",
       "   0.35128805620608894,\n",
       "   0.32076984763432237),\n",
       "  ('Sat', 'Male'): (0.3117984333360252,\n",
       "   0.324092106770535,\n",
       "   0.35128805620608894,\n",
       "   0.6759078932294649),\n",
       "  ('Thur', 'Female'): (0.6680125979164984,\n",
       "   0.0,\n",
       "   0.250343212468707,\n",
       "   0.5144143178651805),\n",
       "  ('Thur', 'Male'): (0.6680125979164984,\n",
       "   0.5177365770013931,\n",
       "   0.250343212468707,\n",
       "   0.48226342299860675),\n",
       "  ('Fri', 'Female'): (0.9232819187595896,\n",
       "   0.0,\n",
       "   0.07671808124041025,\n",
       "   0.472110508830215),\n",
       "  ('Fri', 'Male'): (0.9232819187595896,\n",
       "   0.47543276796642764,\n",
       "   0.07671808124041025,\n",
       "   0.5245672320335724)})"
      ]
     },
     "execution_count": 45,
     "metadata": {},
     "output_type": "execute_result"
    },
    {
     "data": {
      "image/png": "[encoded data removed]",
      "text/plain": [
       "<Figure size 432x288 with 3 Axes>"
      ]
     },
     "metadata": {
      "needs_background": "light"
     },
     "output_type": "display_data"
    }
   ],
   "source": [
    "from statsmodels.graphics.mosaicplot import mosaic\n",
    "def answer_12():\n",
    "    ax=mosaic(data_tips,['day','sex'])\n",
    "    \n",
    "    return ax \n",
    "\n",
    "answer_12()\n",
    "# men pay mostly and  on Sunday"
   ]
  },
  {
   "cell_type": "markdown",
   "metadata": {},
   "source": [
    "You can explore more nice plots  with the seaborn library: http://seaborn.pydata.org/tutorial/categorical.html"
   ]
  },
  {
   "cell_type": "code",
   "execution_count": 46,
   "metadata": {},
   "outputs": [
    {
     "name": "stderr",
     "output_type": "stream",
     "text": [
      "/Users/linafahed/opt/anaconda3/lib/python3.8/site-packages/seaborn/categorical.py:3704: UserWarning: The `factorplot` function has been renamed to `catplot`. The original name will be removed in a future release. Please update your code. Note that the default `kind` in `factorplot` (`'point'`) has changed `'strip'` in `catplot`.\n",
      "  warnings.warn(msg)\n"
     ]
    },
    {
     "data": {
      "text/plain": [
       "<seaborn.axisgrid.FacetGrid at 0x7fb3712d9c70>"
      ]
     },
     "execution_count": 46,
     "metadata": {},
     "output_type": "execute_result"
    },
    {
     "data": {
      "image/png": "[encoded data removed]",
      "text/plain": [
       "<Figure size 412x360 with 1 Axes>"
      ]
     },
     "metadata": {
      "needs_background": "light"
     },
     "output_type": "display_data"
    }
   ],
   "source": [
    "sns.factorplot(x=\"day\", y=\"tip\", hue=\"smoker\", data=data_tips)  \n",
    "# estimator is the mean among each day"
   ]
  },
  {
   "cell_type": "code",
   "execution_count": 47,
   "metadata": {},
   "outputs": [
    {
     "name": "stderr",
     "output_type": "stream",
     "text": [
      "/Users/linafahed/opt/anaconda3/lib/python3.8/site-packages/seaborn/categorical.py:3704: UserWarning: The `factorplot` function has been renamed to `catplot`. The original name will be removed in a future release. Please update your code. Note that the default `kind` in `factorplot` (`'point'`) has changed `'strip'` in `catplot`.\n",
      "  warnings.warn(msg)\n"
     ]
    },
    {
     "data": {
      "text/plain": [
       "<seaborn.axisgrid.FacetGrid at 0x7fb3712b5760>"
      ]
     },
     "execution_count": 47,
     "metadata": {},
     "output_type": "execute_result"
    },
    {
     "data": {
      "image/png": "[encoded data removed]",
      "text/plain": [
       "<Figure size 432.125x360 with 1 Axes>"
      ]
     },
     "metadata": {
      "needs_background": "light"
     },
     "output_type": "display_data"
    }
   ],
   "source": [
    "sns.factorplot(x=\"day\", y=\"total_bill\", hue=\"sex\", data=data_tips, kind=\"bar\")"
   ]
  },
  {
   "cell_type": "markdown",
   "metadata": {},
   "source": [
    " the plot above shows that Male pay mostly the bills, especially on Sunday\n",
    " \n",
    " \n",
    " <mark>**How to well communicate summary statistics?**\n",
    "    \n",
    "    \n",
    "<mark> - the summary statistics section should be clear and easy to read: state total number of cases, and number of variables. Tables need to have captions, and are separated by realvalued variables and categorical variables. <mark>\n",
    "\n",
    "<mark> - Tabulate the numbers. Ordering can be considered, for example tiprate is the first row since we believe it to be the variable of most interest (the target). <mark>\n",
    "    \n",
    "<mark> -  Numbers are carefully rounded, so that it is easy to skim over the tables and get a quick sense of the patterns. Graphical representations are also useful to carefully analyse the data (and to enhance the summary report). <mark>\n",
    "    \n",
    "    \n",
    "<mark> - Bar, pie, histogram and box plots are illustrated in the code. . . <mark>"
   ]
  },
  {
   "cell_type": "markdown",
   "metadata": {},
   "source": [
    "***\n",
    "***\n",
    "\n",
    "#  <font color='red'> Section 3. Your first model: a simple regression</font>\n",
    "\n",
    "The main idea of simple linear regression is to set the value of a quantitative variable Y with a quantitative explanatory variable x: *E*(Y|x) = β0 +β1 x where β0 and β1 are called parameters \"betas\" or \"coefficients\" of the model. This defines a linear relationship, on average (linearity assumption). The intercept, β0, is the (population) mean of Y when x = 0, and the slope, β1, is the (population) mean change in Y when x increases by 1. Multiple regression consider several explanatory variables. .\n"
   ]
  },
  {
   "cell_type": "code",
   "execution_count": 48,
   "metadata": {},
   "outputs": [],
   "source": [
    "#First, import some libraries. \n",
    "#We use statsmodels.api.OLS for the linear regression since it contains a much more detailed \n",
    "#report on the results of the fit than sklearn.linear_model.LinearRegression.\n",
    "# visit for useful info about OLS : http://efavdb.com/interpret-linear-regression/\n",
    "import statsmodels.formula.api as sm"
   ]
  },
  {
   "cell_type": "markdown",
   "metadata": {},
   "source": [
    "You can find useful description of regressions models in the statmodels library here : https://www.statsmodels.org/dev/examples/index.html#linear-regression-models\n"
   ]
  },
  {
   "cell_type": "markdown",
   "metadata": {},
   "source": [
    "## Dummy Variables\n",
    "\n",
    "\n",
    "\n",
    "A dummy variable is a numerical variable used in regression analysis to represent subgroups of the sample in your study. In research design, a dummy variable is often used to distinguish different treatment groups.\n",
    "\n",
    "In the simplest case, we would use a 0,1 dummy variable where a person is given a value of 0 if they are in the control group or a 1 if they are in the treated group. Dummy variables are useful because they enable us to use a single regression equation to represent multiple groups. This means that we don’t need to write out separate equation models for each subgroup. The dummy variables act like ‘switches’ that turn various parameters on and off in an equation. \n",
    "\n",
    "Another advantage of a 0,1 dummy-coded variable is that even though it is a nominal-level variable you can treat it statistically like an interval-level variable (if this made no sense to you, you probably should refresh your memory on levels of measurement). \n",
    "\n",
    "Learn more about it here : https://conjointly.com/kb/dummy-variables/\n"
   ]
  },
  {
   "cell_type": "markdown",
   "metadata": {},
   "source": [
    "### Question 13 \n",
    "Before starting with the regression, we will learn how to build dummy variables, which is sometimes\n",
    "useful. Create four new variables, named day_Thur, day_Fri, day_Sat, day_Sun, that take 1 if the dining party was held on that day, 0 otherwise. \n",
    "\n",
    "Notice that the new variables are considered as numerical, however we need to consider them as objects (boolean).. \n"
   ]
  },
  {
   "cell_type": "code",
   "execution_count": 49,
   "metadata": {},
   "outputs": [
    {
     "data": {
      "text/html": [
       "<div>\n",
       "<style scoped>\n",
       "    .dataframe tbody tr th:only-of-type {\n",
       "        vertical-align: middle;\n",
       "    }\n",
       "\n",
       "    .dataframe tbody tr th {\n",
       "        vertical-align: top;\n",
       "    }\n",
       "\n",
       "    .dataframe thead th {\n",
       "        text-align: right;\n",
       "    }\n",
       "</style>\n",
       "<table border=\"1\" class=\"dataframe\">\n",
       "  <thead>\n",
       "    <tr style=\"text-align: right;\">\n",
       "      <th></th>\n",
       "      <th>total_bill</th>\n",
       "      <th>tip</th>\n",
       "      <th>size</th>\n",
       "      <th>tip_rate</th>\n",
       "      <th>day_Fri</th>\n",
       "      <th>day_Sat</th>\n",
       "      <th>day_Sun</th>\n",
       "      <th>day_Thur</th>\n",
       "      <th>sex_Female</th>\n",
       "      <th>sex_Male</th>\n",
       "      <th>smoker_No</th>\n",
       "      <th>smoker_Yes</th>\n",
       "      <th>time_Dinner</th>\n",
       "      <th>time_Lunch</th>\n",
       "    </tr>\n",
       "  </thead>\n",
       "  <tbody>\n",
       "    <tr>\n",
       "      <th>0</th>\n",
       "      <td>16.99</td>\n",
       "      <td>1.01</td>\n",
       "      <td>2</td>\n",
       "      <td>0.059447</td>\n",
       "      <td>0</td>\n",
       "      <td>0</td>\n",
       "      <td>1</td>\n",
       "      <td>0</td>\n",
       "      <td>1</td>\n",
       "      <td>0</td>\n",
       "      <td>1</td>\n",
       "      <td>0</td>\n",
       "      <td>1</td>\n",
       "      <td>0</td>\n",
       "    </tr>\n",
       "    <tr>\n",
       "      <th>1</th>\n",
       "      <td>10.34</td>\n",
       "      <td>1.66</td>\n",
       "      <td>3</td>\n",
       "      <td>0.160542</td>\n",
       "      <td>0</td>\n",
       "      <td>0</td>\n",
       "      <td>1</td>\n",
       "      <td>0</td>\n",
       "      <td>0</td>\n",
       "      <td>1</td>\n",
       "      <td>1</td>\n",
       "      <td>0</td>\n",
       "      <td>1</td>\n",
       "      <td>0</td>\n",
       "    </tr>\n",
       "    <tr>\n",
       "      <th>2</th>\n",
       "      <td>21.01</td>\n",
       "      <td>3.50</td>\n",
       "      <td>3</td>\n",
       "      <td>0.166587</td>\n",
       "      <td>0</td>\n",
       "      <td>0</td>\n",
       "      <td>1</td>\n",
       "      <td>0</td>\n",
       "      <td>0</td>\n",
       "      <td>1</td>\n",
       "      <td>1</td>\n",
       "      <td>0</td>\n",
       "      <td>1</td>\n",
       "      <td>0</td>\n",
       "    </tr>\n",
       "    <tr>\n",
       "      <th>3</th>\n",
       "      <td>23.68</td>\n",
       "      <td>3.31</td>\n",
       "      <td>2</td>\n",
       "      <td>0.139780</td>\n",
       "      <td>0</td>\n",
       "      <td>0</td>\n",
       "      <td>1</td>\n",
       "      <td>0</td>\n",
       "      <td>0</td>\n",
       "      <td>1</td>\n",
       "      <td>1</td>\n",
       "      <td>0</td>\n",
       "      <td>1</td>\n",
       "      <td>0</td>\n",
       "    </tr>\n",
       "    <tr>\n",
       "      <th>4</th>\n",
       "      <td>24.59</td>\n",
       "      <td>3.61</td>\n",
       "      <td>4</td>\n",
       "      <td>0.146808</td>\n",
       "      <td>0</td>\n",
       "      <td>0</td>\n",
       "      <td>1</td>\n",
       "      <td>0</td>\n",
       "      <td>1</td>\n",
       "      <td>0</td>\n",
       "      <td>1</td>\n",
       "      <td>0</td>\n",
       "      <td>1</td>\n",
       "      <td>0</td>\n",
       "    </tr>\n",
       "    <tr>\n",
       "      <th>...</th>\n",
       "      <td>...</td>\n",
       "      <td>...</td>\n",
       "      <td>...</td>\n",
       "      <td>...</td>\n",
       "      <td>...</td>\n",
       "      <td>...</td>\n",
       "      <td>...</td>\n",
       "      <td>...</td>\n",
       "      <td>...</td>\n",
       "      <td>...</td>\n",
       "      <td>...</td>\n",
       "      <td>...</td>\n",
       "      <td>...</td>\n",
       "      <td>...</td>\n",
       "    </tr>\n",
       "    <tr>\n",
       "      <th>239</th>\n",
       "      <td>29.03</td>\n",
       "      <td>5.92</td>\n",
       "      <td>3</td>\n",
       "      <td>0.203927</td>\n",
       "      <td>0</td>\n",
       "      <td>1</td>\n",
       "      <td>0</td>\n",
       "      <td>0</td>\n",
       "      <td>0</td>\n",
       "      <td>1</td>\n",
       "      <td>1</td>\n",
       "      <td>0</td>\n",
       "      <td>1</td>\n",
       "      <td>0</td>\n",
       "    </tr>\n",
       "    <tr>\n",
       "      <th>240</th>\n",
       "      <td>27.18</td>\n",
       "      <td>2.00</td>\n",
       "      <td>2</td>\n",
       "      <td>0.073584</td>\n",
       "      <td>0</td>\n",
       "      <td>1</td>\n",
       "      <td>0</td>\n",
       "      <td>0</td>\n",
       "      <td>1</td>\n",
       "      <td>0</td>\n",
       "      <td>0</td>\n",
       "      <td>1</td>\n",
       "      <td>1</td>\n",
       "      <td>0</td>\n",
       "    </tr>\n",
       "    <tr>\n",
       "      <th>241</th>\n",
       "      <td>22.67</td>\n",
       "      <td>2.00</td>\n",
       "      <td>2</td>\n",
       "      <td>0.088222</td>\n",
       "      <td>0</td>\n",
       "      <td>1</td>\n",
       "      <td>0</td>\n",
       "      <td>0</td>\n",
       "      <td>0</td>\n",
       "      <td>1</td>\n",
       "      <td>0</td>\n",
       "      <td>1</td>\n",
       "      <td>1</td>\n",
       "      <td>0</td>\n",
       "    </tr>\n",
       "    <tr>\n",
       "      <th>242</th>\n",
       "      <td>17.82</td>\n",
       "      <td>1.75</td>\n",
       "      <td>2</td>\n",
       "      <td>0.098204</td>\n",
       "      <td>0</td>\n",
       "      <td>1</td>\n",
       "      <td>0</td>\n",
       "      <td>0</td>\n",
       "      <td>0</td>\n",
       "      <td>1</td>\n",
       "      <td>1</td>\n",
       "      <td>0</td>\n",
       "      <td>1</td>\n",
       "      <td>0</td>\n",
       "    </tr>\n",
       "    <tr>\n",
       "      <th>243</th>\n",
       "      <td>18.78</td>\n",
       "      <td>3.00</td>\n",
       "      <td>2</td>\n",
       "      <td>0.159744</td>\n",
       "      <td>0</td>\n",
       "      <td>0</td>\n",
       "      <td>0</td>\n",
       "      <td>1</td>\n",
       "      <td>1</td>\n",
       "      <td>0</td>\n",
       "      <td>1</td>\n",
       "      <td>0</td>\n",
       "      <td>1</td>\n",
       "      <td>0</td>\n",
       "    </tr>\n",
       "  </tbody>\n",
       "</table>\n",
       "<p>244 rows × 14 columns</p>\n",
       "</div>"
      ],
      "text/plain": [
       "     total_bill   tip  size  tip_rate  day_Fri  day_Sat  day_Sun  day_Thur  \\\n",
       "0         16.99  1.01     2  0.059447        0        0        1         0   \n",
       "1         10.34  1.66     3  0.160542        0        0        1         0   \n",
       "2         21.01  3.50     3  0.166587        0        0        1         0   \n",
       "3         23.68  3.31     2  0.139780        0        0        1         0   \n",
       "4         24.59  3.61     4  0.146808        0        0        1         0   \n",
       "..          ...   ...   ...       ...      ...      ...      ...       ...   \n",
       "239       29.03  5.92     3  0.203927        0        1        0         0   \n",
       "240       27.18  2.00     2  0.073584        0        1        0         0   \n",
       "241       22.67  2.00     2  0.088222        0        1        0         0   \n",
       "242       17.82  1.75     2  0.098204        0        1        0         0   \n",
       "243       18.78  3.00     2  0.159744        0        0        0         1   \n",
       "\n",
       "     sex_Female  sex_Male  smoker_No  smoker_Yes  time_Dinner  time_Lunch  \n",
       "0             1         0          1           0            1           0  \n",
       "1             0         1          1           0            1           0  \n",
       "2             0         1          1           0            1           0  \n",
       "3             0         1          1           0            1           0  \n",
       "4             1         0          1           0            1           0  \n",
       "..          ...       ...        ...         ...          ...         ...  \n",
       "239           0         1          1           0            1           0  \n",
       "240           1         0          0           1            1           0  \n",
       "241           0         1          0           1            1           0  \n",
       "242           0         1          1           0            1           0  \n",
       "243           1         0          1           0            1           0  \n",
       "\n",
       "[244 rows x 14 columns]"
      ]
     },
     "execution_count": 49,
     "metadata": {},
     "output_type": "execute_result"
    }
   ],
   "source": [
    "#this function should return a dataframe including the dummies for 'day','sex','smoker' and 'time'\n",
    "def answer_13():\n",
    "    # write your code here:\n",
    "    data_tips=answer_4()\n",
    "    res= pd.get_dummies(data_tips,columns=['day','sex','smoker','time'])\n",
    "    #result=res.ix[:, 'day_Fri':].astype('object')\n",
    "    #result2=pd.concat([answer_13().ix[:,'total_bill':'tip_rate'],result],axis=1)\n",
    "    return res\n",
    "answer_13()\n"
   ]
  },
  {
   "cell_type": "code",
   "execution_count": 50,
   "metadata": {},
   "outputs": [],
   "source": [
    "# answer13() provides a dataframe where the new columns are considered as float which is not true\n",
    "#the following lines of codes will resolve the problem for you.\n",
    "#from now use the dataframe 'data'.\n",
    "result=answer_13().loc[:, 'day_Fri':].astype('object') ## i.e. consider as object, all variables from day_Fri till the end\n",
    "data=pd.concat([answer_13().loc[:,'total_bill':'tip_rate'],result],axis=1)\n"
   ]
  },
  {
   "cell_type": "markdown",
   "metadata": {},
   "source": [
    "<mark> We have seen the **loc** function before. However you can learn more about it here Learn more about **loc** function here https://pandas.pydata.org/docs/reference/api/pandas.DataFrame.loc.html \n",
    "    <mark> \n",
    "        \n",
    "        \n",
    " Let us now verify that the new variables are now considered by Python as Objects, let us print out the data types       "
   ]
  },
  {
   "cell_type": "code",
   "execution_count": 51,
   "metadata": {},
   "outputs": [
    {
     "data": {
      "text/plain": [
       "total_bill     float64\n",
       "tip            float64\n",
       "size             int64\n",
       "tip_rate       float64\n",
       "day_Fri         object\n",
       "day_Sat         object\n",
       "day_Sun         object\n",
       "day_Thur        object\n",
       "sex_Female      object\n",
       "sex_Male        object\n",
       "smoker_No       object\n",
       "smoker_Yes      object\n",
       "time_Dinner     object\n",
       "time_Lunch      object\n",
       "dtype: object"
      ]
     },
     "execution_count": 51,
     "metadata": {},
     "output_type": "execute_result"
    }
   ],
   "source": [
    "data.dtypes"
   ]
  },
  {
   "cell_type": "markdown",
   "metadata": {},
   "source": [
    "### Question 14: a general model, impact of all variables on the tip_rate"
   ]
  },
  {
   "cell_type": "markdown",
   "metadata": {},
   "source": [
    "Fit a general linear model with tip_rate as a response variable against all the other variables of\n",
    "interest : sex, smoker, time, size, day_Thur, day_Fri, day_Sat, day_Sun\n",
    "\n",
    "Here we will use the OLS (Ordinary Least Squares) method. OLS is a common technique used in analyzing linear regression. In brief, it compares the difference between individual points in your data set and the predicted best fit line to measure the amount of error produced. \n",
    "\n",
    "The formula parameter (see code below) is provided as a string, in the following form: **dependent variable ~ list of independent variables separated by the + symbol**. In plain terms, the dependent variable is the factor you are trying to predict, and on the other side of the formula are the variables you are using to predict.\n",
    "\n",
    "Learn more here : https://medium.com/swlh/interpreting-linear-regression-through-statsmodels-summary-4796d359035a"
   ]
  },
  {
   "cell_type": "code",
   "execution_count": 52,
   "metadata": {},
   "outputs": [
    {
     "data": {
      "text/html": [
       "<table class=\"simpletable\">\n",
       "<caption>OLS Regression Results</caption>\n",
       "<tr>\n",
       "  <th>Dep. Variable:</th>      <td>data.tip_rate</td>  <th>  R-squared:         </th> <td>   0.042</td>\n",
       "</tr>\n",
       "<tr>\n",
       "  <th>Model:</th>                   <td>OLS</td>       <th>  Adj. R-squared:    </th> <td>   0.014</td>\n",
       "</tr>\n",
       "<tr>\n",
       "  <th>Method:</th>             <td>Least Squares</td>  <th>  F-statistic:       </th> <td>   1.479</td>\n",
       "</tr>\n",
       "<tr>\n",
       "  <th>Date:</th>             <td>Thu, 16 Mar 2023</td> <th>  Prob (F-statistic):</th>  <td> 0.175</td> \n",
       "</tr>\n",
       "<tr>\n",
       "  <th>Time:</th>                 <td>19:13:09</td>     <th>  Log-Likelihood:    </th> <td>  341.67</td>\n",
       "</tr>\n",
       "<tr>\n",
       "  <th>No. Observations:</th>      <td>   244</td>      <th>  AIC:               </th> <td>  -667.3</td>\n",
       "</tr>\n",
       "<tr>\n",
       "  <th>Df Residuals:</th>          <td>   236</td>      <th>  BIC:               </th> <td>  -639.4</td>\n",
       "</tr>\n",
       "<tr>\n",
       "  <th>Df Model:</th>              <td>     7</td>      <th>                     </th>     <td> </td>   \n",
       "</tr>\n",
       "<tr>\n",
       "  <th>Covariance Type:</th>      <td>nonrobust</td>    <th>                     </th>     <td> </td>   \n",
       "</tr>\n",
       "</table>\n",
       "<table class=\"simpletable\">\n",
       "<tr>\n",
       "            <td></td>               <th>coef</th>     <th>std err</th>      <th>t</th>      <th>P>|t|</th>  <th>[0.025</th>    <th>0.975]</th>  \n",
       "</tr>\n",
       "<tr>\n",
       "  <th>Intercept</th>             <td>    0.0697</td> <td>    0.004</td> <td>   15.784</td> <td> 0.000</td> <td>    0.061</td> <td>    0.078</td>\n",
       "</tr>\n",
       "<tr>\n",
       "  <th>data.sex_Female[T.1]</th>  <td>    0.0391</td> <td>    0.005</td> <td>    8.177</td> <td> 0.000</td> <td>    0.030</td> <td>    0.049</td>\n",
       "</tr>\n",
       "<tr>\n",
       "  <th>data.sex_Male[T.1]</th>    <td>    0.0306</td> <td>    0.005</td> <td>    6.559</td> <td> 0.000</td> <td>    0.021</td> <td>    0.040</td>\n",
       "</tr>\n",
       "<tr>\n",
       "  <th>data.smoker_No[T.1]</th>   <td>    0.0330</td> <td>    0.005</td> <td>    6.751</td> <td> 0.000</td> <td>    0.023</td> <td>    0.043</td>\n",
       "</tr>\n",
       "<tr>\n",
       "  <th>data.smoker_Yes[T.1]</th>  <td>    0.0367</td> <td>    0.005</td> <td>    7.829</td> <td> 0.000</td> <td>    0.027</td> <td>    0.046</td>\n",
       "</tr>\n",
       "<tr>\n",
       "  <th>data.time_Dinner[T.1]</th> <td>    0.0232</td> <td>    0.012</td> <td>    1.856</td> <td> 0.065</td> <td>   -0.001</td> <td>    0.048</td>\n",
       "</tr>\n",
       "<tr>\n",
       "  <th>data.time_Lunch[T.1]</th>  <td>    0.0465</td> <td>    0.014</td> <td>    3.330</td> <td> 0.001</td> <td>    0.019</td> <td>    0.074</td>\n",
       "</tr>\n",
       "<tr>\n",
       "  <th>data.day_Fri[T.1]</th>     <td>    0.0182</td> <td>    0.011</td> <td>    1.587</td> <td> 0.114</td> <td>   -0.004</td> <td>    0.041</td>\n",
       "</tr>\n",
       "<tr>\n",
       "  <th>data.day_Thur[T.1]</th>    <td> 6.167e-05</td> <td>    0.018</td> <td>    0.003</td> <td> 0.997</td> <td>   -0.036</td> <td>    0.036</td>\n",
       "</tr>\n",
       "<tr>\n",
       "  <th>data.day_Sun[T.1]</th>     <td>    0.0349</td> <td>    0.012</td> <td>    2.981</td> <td> 0.003</td> <td>    0.012</td> <td>    0.058</td>\n",
       "</tr>\n",
       "<tr>\n",
       "  <th>data.day_Sat[T.1]</th>     <td>    0.0165</td> <td>    0.011</td> <td>    1.459</td> <td> 0.146</td> <td>   -0.006</td> <td>    0.039</td>\n",
       "</tr>\n",
       "<tr>\n",
       "  <th>data['size']</th>          <td>   -0.0096</td> <td>    0.004</td> <td>   -2.282</td> <td> 0.023</td> <td>   -0.018</td> <td>   -0.001</td>\n",
       "</tr>\n",
       "</table>\n",
       "<table class=\"simpletable\">\n",
       "<tr>\n",
       "  <th>Omnibus:</th>       <td>214.408</td> <th>  Durbin-Watson:     </th> <td>   2.098</td>\n",
       "</tr>\n",
       "<tr>\n",
       "  <th>Prob(Omnibus):</th> <td> 0.000</td>  <th>  Jarque-Bera (JB):  </th> <td>7088.439</td>\n",
       "</tr>\n",
       "<tr>\n",
       "  <th>Skew:</th>          <td> 3.189</td>  <th>  Prob(JB):          </th> <td>    0.00</td>\n",
       "</tr>\n",
       "<tr>\n",
       "  <th>Kurtosis:</th>      <td>28.623</td>  <th>  Cond. No.          </th> <td>1.01e+17</td>\n",
       "</tr>\n",
       "</table><br/><br/>Notes:<br/>[1] Standard Errors assume that the covariance matrix of the errors is correctly specified.<br/>[2] The smallest eigenvalue is 2.47e-31. This might indicate that there are<br/>strong multicollinearity problems or that the design matrix is singular."
      ],
      "text/plain": [
       "<class 'statsmodels.iolib.summary.Summary'>\n",
       "\"\"\"\n",
       "                            OLS Regression Results                            \n",
       "==============================================================================\n",
       "Dep. Variable:          data.tip_rate   R-squared:                       0.042\n",
       "Model:                            OLS   Adj. R-squared:                  0.014\n",
       "Method:                 Least Squares   F-statistic:                     1.479\n",
       "Date:                Thu, 16 Mar 2023   Prob (F-statistic):              0.175\n",
       "Time:                        19:13:09   Log-Likelihood:                 341.67\n",
       "No. Observations:                 244   AIC:                            -667.3\n",
       "Df Residuals:                     236   BIC:                            -639.4\n",
       "Df Model:                           7                                         \n",
       "Covariance Type:            nonrobust                                         \n",
       "=========================================================================================\n",
       "                            coef    std err          t      P>|t|      [0.025      0.975]\n",
       "-----------------------------------------------------------------------------------------\n",
       "Intercept                 0.0697      0.004     15.784      0.000       0.061       0.078\n",
       "data.sex_Female[T.1]      0.0391      0.005      8.177      0.000       0.030       0.049\n",
       "data.sex_Male[T.1]        0.0306      0.005      6.559      0.000       0.021       0.040\n",
       "data.smoker_No[T.1]       0.0330      0.005      6.751      0.000       0.023       0.043\n",
       "data.smoker_Yes[T.1]      0.0367      0.005      7.829      0.000       0.027       0.046\n",
       "data.time_Dinner[T.1]     0.0232      0.012      1.856      0.065      -0.001       0.048\n",
       "data.time_Lunch[T.1]      0.0465      0.014      3.330      0.001       0.019       0.074\n",
       "data.day_Fri[T.1]         0.0182      0.011      1.587      0.114      -0.004       0.041\n",
       "data.day_Thur[T.1]     6.167e-05      0.018      0.003      0.997      -0.036       0.036\n",
       "data.day_Sun[T.1]         0.0349      0.012      2.981      0.003       0.012       0.058\n",
       "data.day_Sat[T.1]         0.0165      0.011      1.459      0.146      -0.006       0.039\n",
       "data['size']             -0.0096      0.004     -2.282      0.023      -0.018      -0.001\n",
       "==============================================================================\n",
       "Omnibus:                      214.408   Durbin-Watson:                   2.098\n",
       "Prob(Omnibus):                  0.000   Jarque-Bera (JB):             7088.439\n",
       "Skew:                           3.189   Prob(JB):                         0.00\n",
       "Kurtosis:                      28.623   Cond. No.                     1.01e+17\n",
       "==============================================================================\n",
       "\n",
       "Notes:\n",
       "[1] Standard Errors assume that the covariance matrix of the errors is correctly specified.\n",
       "[2] The smallest eigenvalue is 2.47e-31. This might indicate that there are\n",
       "strong multicollinearity problems or that the design matrix is singular.\n",
       "\"\"\""
      ]
     },
     "execution_count": 52,
     "metadata": {},
     "output_type": "execute_result"
    }
   ],
   "source": [
    "# this function should fit a general model respecting the requirements \n",
    "#and return a summary about that model\n",
    "#( use :  your_model.summary())\n",
    "## fit function  uses the model to create a best fit line, hence the linear regression\n",
    "def answer_14():\n",
    "    #answer_13()\n",
    "    model=sm.ols(formula=\"data.tip_rate~data.sex_Female +data.sex_Male+ data.smoker_No+data.smoker_Yes +data.time_Dinner+data.time_Lunch + data['size'] + data.day_Fri + data.day_Thur + data.day_Sun + data.day_Sat \",data=data).fit()\n",
    "    return model.summary()\n",
    "answer_14()\n"
   ]
  },
  {
   "cell_type": "markdown",
   "metadata": {},
   "source": [
    "To learn how to interpret the summary results (the output) of such regression models, take a look here : https://medium.com/swlh/interpreting-linear-regression-through-statsmodels-summary-4796d359035a\n",
    "\n",
    "### Interpreting Linear Regression Through statsmodels .summary()\n",
    "Let us interpret the output of the summary() shown above:\n",
    "- The top of our summary starts by giving us a few details we already know. Our **Dependent Variable** is *tip_rate*, we’ve using OLS known as Ordinary Least Squares, and the Date and Time we’ve created the Model. \n",
    "- Next, it details our **Number of Observations** in the dataset. \n",
    "- Df Residuals is another name for our Degrees of Freedom in our mode. This is calculated in the form of ‘n-k-1’ or ‘number of observations-number of predicting variables-1.’ Df Model numbers our predicting variables. \n",
    "- Our **Covariance Type** is listed as nonrobust. Covariance is a measure of how two variables are linked in a positive or negative manner, and a robust covariance is one that is calculated in a way to minimize or eliminate variables, which is not the case here.\n",
    "\n",
    "\n",
    "- **R-squared** is possibly the most important measurement produced by this summary. R-squared is the measurement of how much of the independent variable is explained by changes in our dependent variables. In percentage terms, 0.042 would mean our model explains 4.2% of the change in our ‘tip_rate’ variable. \n",
    "- **Adjusted R-squared** is important for analyzing multiple dependent variables’ efficacy on the model. Linear regression has the quality that your model’s R-squared value will never go down with additional variables, only equal or higher. Therefore, your model could look more accurate with multiple variables even if they are poorly contributing. The adjusted R-squared penalizes the R-squared formula based on the number of variables, therefore a lower adjusted score may be telling you some variables are not contributing to your model’s R-squared properly.\n",
    "- The **F-statistic** in linear regression is comparing your produced linear model for your variables against a model that replaces your variables’ effect to 0, to find out if your group of variables are statistically significant. To interpret this number correctly, using a chosen alpha value and an F-table is necessary. \n",
    "- **Prob (F-Statistic)** uses this number \"F-Statistic\" to tell you the accuracy of the null hypothesis, or whether it is accurate that your variables’ effect is 0. In this case, it is telling us 0.175% chance of this. \n",
    "- **Log-likelihood** is a numerical signifier of the likelihood that your produced model produced the given data. It is used to compare coefficient values for each variable in the process of creating the model. \n",
    "- **AIC and BIC** are both used to compare the efficacy of models in the process of linear regression, using a penalty system for measuring multiple variables. These numbers are used for feature selection of variables.\n",
    "\n",
    "\n",
    "- The **Intercept** is the result of our model if all variables were tuned to 0. In the classic ‘y = mx+b’ linear formula, it is our b, a constant added to explain a starting value for our line. Beneath the intercept are our variables. \n",
    "- Our first informative column is the **coefficient**. For our intercept, it is the value of the intercept. For each variable, it is the measurement of how change in that variable affects the independent variable. It is the ‘m’ in ‘y = mx + b’ One unit of change in the dependent variable will affect the variable’s coefficient’s worth of change in the independent variable. If the coefficient is negative, they have an inverse relationship. As one rises, the other falls.\n",
    "- Our **std error** is an estimate of the standard deviation of the coefficient, a measurement of the amount of variation in the coefficient throughout its data points. The t is related and is a measurement of the precision with which the coefficient was measured. A low std error compared to a high coefficient produces a high t statistic, which signifies a high significance for your coefficient.\n",
    "- **P>|t|** is one of the most important statistics in the summary. It uses the t statistic to produce the p value, a measurement of how likely your coefficient is measured through our model by chance. The p value of 0.023 for \"size\" is saying there is a 2.3% chance the \"size\" variable has no affect on the dependent variable, tip_rate, and our results are produced by chance. Proper model analysis will compare the p value to a previously established alpha value, or a threshold with which we can apply significance to our coefficient. A common alpha is 0.05, which few of our variables pass in this instance.\n",
    "- **$[$0.025 and 0.975$]$** are both measurements of values of our coefficients within 95% of our data, or within two standard deviations. Outside of these values can generally be considered outliers.\n",
    "- Omnibus describes the normalcy of the distribution of our residuals using skew and kurtosis as measurements. A 0 would indicate perfect normalcy. \n",
    "- Prob(Omnibus) is a statistical test measuring the probability the residuals are normally distributed. A 1 would indicate perfectly normal distribution. \n",
    "- Skew is a measurement of symmetry in our data, with 0 being perfect symmetry. Kurtosis measures the peakiness of our data, or its concentration around 0 in a normal curve. Higher kurtosis implies fewer outliers.\n",
    "- **Durbin-Watson** is a measurement of homoscedasticity, or an even distribution of errors throughout our data. Heteroscedasticity would imply an uneven distribution, for example as the data point grows higher the relative error grows higher. Ideal homoscedasticity will lie between 1 and 2. \n",
    "- **Jarque-Bera (JB) and Prob(JB)** are alternate methods of measuring the same value as Omnibus and Prob(Omnibus) using skewness and kurtosis. We use these values to confirm each other. \n",
    "- **Condition number** is a measurement of the sensitivity of our model as compared to the size of changes in the data it is analyzing. Multicollinearity is strongly implied by a high condition number. Multicollinearity a term to describe two or more independent variables that are strongly related to each other and are falsely affecting our predicted variable by redundancy.\n"
   ]
  },
  {
   "cell_type": "markdown",
   "metadata": {},
   "source": [
    "### Question 15: impact of the *size* on the *tip_rate*"
   ]
  },
  {
   "cell_type": "markdown",
   "metadata": {},
   "source": [
    "Fit a model with only the size as an explanatory variable"
   ]
  },
  {
   "cell_type": "code",
   "execution_count": 53,
   "metadata": {},
   "outputs": [
    {
     "data": {
      "text/html": [
       "<table class=\"simpletable\">\n",
       "<caption>OLS Regression Results</caption>\n",
       "<tr>\n",
       "  <th>Dep. Variable:</th>      <td>data.tip_rate</td>  <th>  R-squared:         </th> <td>   0.020</td>\n",
       "</tr>\n",
       "<tr>\n",
       "  <th>Model:</th>                   <td>OLS</td>       <th>  Adj. R-squared:    </th> <td>   0.016</td>\n",
       "</tr>\n",
       "<tr>\n",
       "  <th>Method:</th>             <td>Least Squares</td>  <th>  F-statistic:       </th> <td>   5.042</td>\n",
       "</tr>\n",
       "<tr>\n",
       "  <th>Date:</th>             <td>Thu, 16 Mar 2023</td> <th>  Prob (F-statistic):</th>  <td>0.0256</td> \n",
       "</tr>\n",
       "<tr>\n",
       "  <th>Time:</th>                 <td>19:13:09</td>     <th>  Log-Likelihood:    </th> <td>  338.95</td>\n",
       "</tr>\n",
       "<tr>\n",
       "  <th>No. Observations:</th>      <td>   244</td>      <th>  AIC:               </th> <td>  -673.9</td>\n",
       "</tr>\n",
       "<tr>\n",
       "  <th>Df Residuals:</th>          <td>   242</td>      <th>  BIC:               </th> <td>  -666.9</td>\n",
       "</tr>\n",
       "<tr>\n",
       "  <th>Df Model:</th>              <td>     1</td>      <th>                     </th>     <td> </td>   \n",
       "</tr>\n",
       "<tr>\n",
       "  <th>Covariance Type:</th>      <td>nonrobust</td>    <th>                     </th>     <td> </td>   \n",
       "</tr>\n",
       "</table>\n",
       "<table class=\"simpletable\">\n",
       "<tr>\n",
       "        <td></td>          <th>coef</th>     <th>std err</th>      <th>t</th>      <th>P>|t|</th>  <th>[0.025</th>    <th>0.975]</th>  \n",
       "</tr>\n",
       "<tr>\n",
       "  <th>Intercept</th>    <td>    0.1844</td> <td>    0.011</td> <td>   16.475</td> <td> 0.000</td> <td>    0.162</td> <td>    0.206</td>\n",
       "</tr>\n",
       "<tr>\n",
       "  <th>data['size']</th> <td>   -0.0092</td> <td>    0.004</td> <td>   -2.245</td> <td> 0.026</td> <td>   -0.017</td> <td>   -0.001</td>\n",
       "</tr>\n",
       "</table>\n",
       "<table class=\"simpletable\">\n",
       "<tr>\n",
       "  <th>Omnibus:</th>       <td>220.122</td> <th>  Durbin-Watson:     </th> <td>   2.096</td>\n",
       "</tr>\n",
       "<tr>\n",
       "  <th>Prob(Omnibus):</th> <td> 0.000</td>  <th>  Jarque-Bera (JB):  </th> <td>7618.220</td>\n",
       "</tr>\n",
       "<tr>\n",
       "  <th>Skew:</th>          <td> 3.308</td>  <th>  Prob(JB):          </th> <td>    0.00</td>\n",
       "</tr>\n",
       "<tr>\n",
       "  <th>Kurtosis:</th>      <td>29.562</td>  <th>  Cond. No.          </th> <td>    8.85</td>\n",
       "</tr>\n",
       "</table><br/><br/>Notes:<br/>[1] Standard Errors assume that the covariance matrix of the errors is correctly specified."
      ],
      "text/plain": [
       "<class 'statsmodels.iolib.summary.Summary'>\n",
       "\"\"\"\n",
       "                            OLS Regression Results                            \n",
       "==============================================================================\n",
       "Dep. Variable:          data.tip_rate   R-squared:                       0.020\n",
       "Model:                            OLS   Adj. R-squared:                  0.016\n",
       "Method:                 Least Squares   F-statistic:                     5.042\n",
       "Date:                Thu, 16 Mar 2023   Prob (F-statistic):             0.0256\n",
       "Time:                        19:13:09   Log-Likelihood:                 338.95\n",
       "No. Observations:                 244   AIC:                            -673.9\n",
       "Df Residuals:                     242   BIC:                            -666.9\n",
       "Df Model:                           1                                         \n",
       "Covariance Type:            nonrobust                                         \n",
       "================================================================================\n",
       "                   coef    std err          t      P>|t|      [0.025      0.975]\n",
       "--------------------------------------------------------------------------------\n",
       "Intercept        0.1844      0.011     16.475      0.000       0.162       0.206\n",
       "data['size']    -0.0092      0.004     -2.245      0.026      -0.017      -0.001\n",
       "==============================================================================\n",
       "Omnibus:                      220.122   Durbin-Watson:                   2.096\n",
       "Prob(Omnibus):                  0.000   Jarque-Bera (JB):             7618.220\n",
       "Skew:                           3.308   Prob(JB):                         0.00\n",
       "Kurtosis:                      29.562   Cond. No.                         8.85\n",
       "==============================================================================\n",
       "\n",
       "Notes:\n",
       "[1] Standard Errors assume that the covariance matrix of the errors is correctly specified.\n",
       "\"\"\""
      ]
     },
     "execution_count": 53,
     "metadata": {},
     "output_type": "execute_result"
    }
   ],
   "source": [
    "def answer_15():\n",
    "    #write your code here\n",
    "    #data_tips=answer_13()\n",
    "    model=sm.ols(formula=\"data.tip_rate~data['size']\",data=data).fit()    \n",
    "    return model.summary()\n",
    "\n",
    "answer_15()"
   ]
  },
  {
   "cell_type": "markdown",
   "metadata": {},
   "source": [
    "Let comment here : It is still a non significant model. From the R-sequared we may infer that the variable \"size\" explains only 2% of the variation of the tip rate. "
   ]
  },
  {
   "cell_type": "markdown",
   "metadata": {},
   "source": [
    "### Question 16: finding & selecting a *good model*"
   ]
  },
  {
   "cell_type": "markdown",
   "metadata": {},
   "source": [
    "Use a stepwise algorithm with the AIC statistic as a variable selection process to select a good\n",
    "model. Start from the full model of question 13. What do you remark?"
   ]
  },
  {
   "cell_type": "code",
   "execution_count": 54,
   "metadata": {},
   "outputs": [],
   "source": [
    "# this function is provided since there is no specific method for aicstatistic in python\n",
    "# the source code was taken from : http://planspace.org/20150423-forward_selection_with_statsmodels/\n",
    "import statsmodels.formula.api as smf\n",
    "\n",
    "def forward_selected(data, response):\n",
    "    \"\"\"Linear model designed by forward selection.\n",
    "\n",
    "    Parameters:\n",
    "    -----------\n",
    "    data : pandas DataFrame with all possible predictors and response\n",
    "\n",
    "    response: string, name of response column in data\n",
    "\n",
    "    Returns:\n",
    "    --------\n",
    "    model: an \"optimal\" fitted statsmodels linear model\n",
    "           with an intercept\n",
    "           selected by forward selection\n",
    "           evaluated by adjusted R-squared\n",
    "    \"\"\"\n",
    "    remaining = set(data.columns)\n",
    "    remaining.remove(response)\n",
    "    selected = []\n",
    "    current_score, best_new_score = 0.0, 0.0\n",
    "    while remaining and current_score == best_new_score:\n",
    "        scores_with_candidates = []\n",
    "        for candidate in remaining:\n",
    "            formula = \"{} ~ {} \".format(response,\n",
    "                                           ' + '.join(selected + [candidate]))\n",
    "            score = smf.ols(formula, data).fit().rsquared_adj\n",
    "            scores_with_candidates.append((score, candidate))\n",
    "        scores_with_candidates.sort()\n",
    "        best_new_score, best_candidate = scores_with_candidates.pop()\n",
    "        if current_score < best_new_score:\n",
    "            remaining.remove(best_candidate)\n",
    "            selected.append(best_candidate)\n",
    "            current_score = best_new_score\n",
    "    formula = \"{} ~ {} \".format(response,\n",
    "                                   ' + '.join(selected))\n",
    "    model = smf.ols(formula, data).fit()\n",
    "    return model"
   ]
  },
  {
   "cell_type": "code",
   "execution_count": 55,
   "metadata": {},
   "outputs": [],
   "source": [
    "#data.head(1)"
   ]
  },
  {
   "cell_type": "code",
   "execution_count": 56,
   "metadata": {},
   "outputs": [
    {
     "data": {
      "text/plain": [
       "('tip_rate ~ size + day_Sat ', 0.022243088905636088)"
      ]
     },
     "execution_count": 56,
     "metadata": {},
     "output_type": "execute_result"
    }
   ],
   "source": [
    "def answer_16():\n",
    "    data_new=data.iloc[:,2:12]\n",
    "    model = forward_selected(data_new, 'tip_rate')\n",
    "    return  model.model.formula ,model.rsquared_adj\n",
    "answer_16()"
   ]
  },
  {
   "cell_type": "markdown",
   "metadata": {},
   "source": [
    "Let comment here : We see that we retrieve the two most significant variables. The model with the two resulting variables is, however, still not significant."
   ]
  },
  {
   "cell_type": "markdown",
   "metadata": {},
   "source": [
    "#### Home work"
   ]
  },
  {
   "cell_type": "markdown",
   "metadata": {},
   "source": [
    "Explore the notion of interaction between the Gender and the smoking habit by including\n",
    "explicitely this interaction into a model with size, sex, smoke"
   ]
  },
  {
   "cell_type": "markdown",
   "metadata": {},
   "source": [
    "### Question 17: impact of *total bill* on the *tip_rate*"
   ]
  },
  {
   "cell_type": "markdown",
   "metadata": {},
   "source": [
    "Check the linear relationship between the tip and the total bill, seen at question 7, with a linear\n",
    "model and interpret the quality of this model"
   ]
  },
  {
   "cell_type": "code",
   "execution_count": 57,
   "metadata": {},
   "outputs": [
    {
     "data": {
      "text/html": [
       "<table class=\"simpletable\">\n",
       "<caption>OLS Regression Results</caption>\n",
       "<tr>\n",
       "  <th>Dep. Variable:</th>      <td>data.tip_rate</td>  <th>  R-squared:         </th> <td>   0.115</td>\n",
       "</tr>\n",
       "<tr>\n",
       "  <th>Model:</th>                   <td>OLS</td>       <th>  Adj. R-squared:    </th> <td>   0.111</td>\n",
       "</tr>\n",
       "<tr>\n",
       "  <th>Method:</th>             <td>Least Squares</td>  <th>  F-statistic:       </th> <td>   31.34</td>\n",
       "</tr>\n",
       "<tr>\n",
       "  <th>Date:</th>             <td>Thu, 16 Mar 2023</td> <th>  Prob (F-statistic):</th> <td>5.85e-08</td>\n",
       "</tr>\n",
       "<tr>\n",
       "  <th>Time:</th>                 <td>19:13:09</td>     <th>  Log-Likelihood:    </th> <td>  351.29</td>\n",
       "</tr>\n",
       "<tr>\n",
       "  <th>No. Observations:</th>      <td>   244</td>      <th>  AIC:               </th> <td>  -698.6</td>\n",
       "</tr>\n",
       "<tr>\n",
       "  <th>Df Residuals:</th>          <td>   242</td>      <th>  BIC:               </th> <td>  -691.6</td>\n",
       "</tr>\n",
       "<tr>\n",
       "  <th>Df Model:</th>              <td>     1</td>      <th>                     </th>     <td> </td>   \n",
       "</tr>\n",
       "<tr>\n",
       "  <th>Covariance Type:</th>      <td>nonrobust</td>    <th>                     </th>     <td> </td>   \n",
       "</tr>\n",
       "</table>\n",
       "<table class=\"simpletable\">\n",
       "<tr>\n",
       "         <td></td>            <th>coef</th>     <th>std err</th>      <th>t</th>      <th>P>|t|</th>  <th>[0.025</th>    <th>0.975]</th>  \n",
       "</tr>\n",
       "<tr>\n",
       "  <th>Intercept</th>       <td>    0.2068</td> <td>    0.009</td> <td>   22.975</td> <td> 0.000</td> <td>    0.189</td> <td>    0.224</td>\n",
       "</tr>\n",
       "<tr>\n",
       "  <th>data.total_bill</th> <td>   -0.0023</td> <td>    0.000</td> <td>   -5.599</td> <td> 0.000</td> <td>   -0.003</td> <td>   -0.002</td>\n",
       "</tr>\n",
       "</table>\n",
       "<table class=\"simpletable\">\n",
       "<tr>\n",
       "  <th>Omnibus:</th>       <td>224.802</td> <th>  Durbin-Watson:     </th> <td>   2.020</td>\n",
       "</tr>\n",
       "<tr>\n",
       "  <th>Prob(Omnibus):</th> <td> 0.000</td>  <th>  Jarque-Bera (JB):  </th> <td>7863.442</td>\n",
       "</tr>\n",
       "<tr>\n",
       "  <th>Skew:</th>          <td> 3.420</td>  <th>  Prob(JB):          </th> <td>    0.00</td>\n",
       "</tr>\n",
       "<tr>\n",
       "  <th>Kurtosis:</th>      <td>29.957</td>  <th>  Cond. No.          </th> <td>    53.0</td>\n",
       "</tr>\n",
       "</table><br/><br/>Notes:<br/>[1] Standard Errors assume that the covariance matrix of the errors is correctly specified."
      ],
      "text/plain": [
       "<class 'statsmodels.iolib.summary.Summary'>\n",
       "\"\"\"\n",
       "                            OLS Regression Results                            \n",
       "==============================================================================\n",
       "Dep. Variable:          data.tip_rate   R-squared:                       0.115\n",
       "Model:                            OLS   Adj. R-squared:                  0.111\n",
       "Method:                 Least Squares   F-statistic:                     31.34\n",
       "Date:                Thu, 16 Mar 2023   Prob (F-statistic):           5.85e-08\n",
       "Time:                        19:13:09   Log-Likelihood:                 351.29\n",
       "No. Observations:                 244   AIC:                            -698.6\n",
       "Df Residuals:                     242   BIC:                            -691.6\n",
       "Df Model:                           1                                         \n",
       "Covariance Type:            nonrobust                                         \n",
       "===================================================================================\n",
       "                      coef    std err          t      P>|t|      [0.025      0.975]\n",
       "-----------------------------------------------------------------------------------\n",
       "Intercept           0.2068      0.009     22.975      0.000       0.189       0.224\n",
       "data.total_bill    -0.0023      0.000     -5.599      0.000      -0.003      -0.002\n",
       "==============================================================================\n",
       "Omnibus:                      224.802   Durbin-Watson:                   2.020\n",
       "Prob(Omnibus):                  0.000   Jarque-Bera (JB):             7863.442\n",
       "Skew:                           3.420   Prob(JB):                         0.00\n",
       "Kurtosis:                      29.957   Cond. No.                         53.0\n",
       "==============================================================================\n",
       "\n",
       "Notes:\n",
       "[1] Standard Errors assume that the covariance matrix of the errors is correctly specified.\n",
       "\"\"\""
      ]
     },
     "execution_count": 57,
     "metadata": {},
     "output_type": "execute_result"
    }
   ],
   "source": [
    "\n",
    "def answer_17():\n",
    "    # write your code here\n",
    "    model=sm.ols(formula=\"data.tip_rate~data.total_bill\",data=data).fit()\n",
    "    return model.summary()\n",
    "answer_17()"
   ]
  },
  {
   "cell_type": "markdown",
   "metadata": {
    "collapsed": true
   },
   "source": [
    "Let comment here:"
   ]
  },
  {
   "cell_type": "markdown",
   "metadata": {
    "collapsed": true
   },
   "source": [
    "### Question 18: impact of both *total bill* and *size* on the *tip_rate*"
   ]
  },
  {
   "cell_type": "markdown",
   "metadata": {},
   "source": [
    " Test the correlation between total_bill and size? what do you conclude?"
   ]
  },
  {
   "cell_type": "code",
   "execution_count": 58,
   "metadata": {},
   "outputs": [
    {
     "data": {
      "text/plain": [
       "SpearmanrResult(correlation=0.6047911390994543, pvalue=9.92230778131113e-26)"
      ]
     },
     "execution_count": 58,
     "metadata": {},
     "output_type": "execute_result"
    }
   ],
   "source": [
    "def answer_18_1():\n",
    "    corr=spearmanr(data['size'],data['total_bill'])\n",
    "\n",
    "    return corr\n",
    "answer_18_1()"
   ]
  },
  {
   "cell_type": "markdown",
   "metadata": {},
   "source": [
    "<mark>Conclusion: size correlates with total_bill.</mark> So let us see if both variables impact tip_rate"
   ]
  },
  {
   "cell_type": "markdown",
   "metadata": {},
   "source": [
    "Now build a linear model using both size and total_bill, the show the summary. What do you remark about the results? ( to help \n",
    "go back to answer_17() and answer_15() )"
   ]
  },
  {
   "cell_type": "code",
   "execution_count": 59,
   "metadata": {},
   "outputs": [
    {
     "data": {
      "text/html": [
       "<table class=\"simpletable\">\n",
       "<caption>OLS Regression Results</caption>\n",
       "<tr>\n",
       "  <th>Dep. Variable:</th>      <td>data.tip_rate</td>  <th>  R-squared:         </th> <td>   0.120</td>\n",
       "</tr>\n",
       "<tr>\n",
       "  <th>Model:</th>                   <td>OLS</td>       <th>  Adj. R-squared:    </th> <td>   0.113</td>\n",
       "</tr>\n",
       "<tr>\n",
       "  <th>Method:</th>             <td>Least Squares</td>  <th>  F-statistic:       </th> <td>   16.47</td>\n",
       "</tr>\n",
       "<tr>\n",
       "  <th>Date:</th>             <td>Thu, 16 Mar 2023</td> <th>  Prob (F-statistic):</th> <td>1.98e-07</td>\n",
       "</tr>\n",
       "<tr>\n",
       "  <th>Time:</th>                 <td>19:13:09</td>     <th>  Log-Likelihood:    </th> <td>  352.06</td>\n",
       "</tr>\n",
       "<tr>\n",
       "  <th>No. Observations:</th>      <td>   244</td>      <th>  AIC:               </th> <td>  -698.1</td>\n",
       "</tr>\n",
       "<tr>\n",
       "  <th>Df Residuals:</th>          <td>   241</td>      <th>  BIC:               </th> <td>  -687.6</td>\n",
       "</tr>\n",
       "<tr>\n",
       "  <th>Df Model:</th>              <td>     2</td>      <th>                     </th>     <td> </td>   \n",
       "</tr>\n",
       "<tr>\n",
       "  <th>Covariance Type:</th>      <td>nonrobust</td>    <th>                     </th>     <td> </td>   \n",
       "</tr>\n",
       "</table>\n",
       "<table class=\"simpletable\">\n",
       "<tr>\n",
       "         <td></td>            <th>coef</th>     <th>std err</th>      <th>t</th>      <th>P>|t|</th>  <th>[0.025</th>    <th>0.975]</th>  \n",
       "</tr>\n",
       "<tr>\n",
       "  <th>Intercept</th>       <td>    0.1990</td> <td>    0.011</td> <td>   18.108</td> <td> 0.000</td> <td>    0.177</td> <td>    0.221</td>\n",
       "</tr>\n",
       "<tr>\n",
       "  <th>data.total_bill</th> <td>   -0.0027</td> <td>    0.001</td> <td>   -5.229</td> <td> 0.000</td> <td>   -0.004</td> <td>   -0.002</td>\n",
       "</tr>\n",
       "<tr>\n",
       "  <th>data['size']</th>    <td>    0.0060</td> <td>    0.005</td> <td>    1.234</td> <td> 0.218</td> <td>   -0.004</td> <td>    0.016</td>\n",
       "</tr>\n",
       "</table>\n",
       "<table class=\"simpletable\">\n",
       "<tr>\n",
       "  <th>Omnibus:</th>       <td>225.635</td> <th>  Durbin-Watson:     </th> <td>   1.988</td>\n",
       "</tr>\n",
       "<tr>\n",
       "  <th>Prob(Omnibus):</th> <td> 0.000</td>  <th>  Jarque-Bera (JB):  </th> <td>7911.374</td>\n",
       "</tr>\n",
       "<tr>\n",
       "  <th>Skew:</th>          <td> 3.440</td>  <th>  Prob(JB):          </th> <td>    0.00</td>\n",
       "</tr>\n",
       "<tr>\n",
       "  <th>Kurtosis:</th>      <td>30.034</td>  <th>  Cond. No.          </th> <td>    67.6</td>\n",
       "</tr>\n",
       "</table><br/><br/>Notes:<br/>[1] Standard Errors assume that the covariance matrix of the errors is correctly specified."
      ],
      "text/plain": [
       "<class 'statsmodels.iolib.summary.Summary'>\n",
       "\"\"\"\n",
       "                            OLS Regression Results                            \n",
       "==============================================================================\n",
       "Dep. Variable:          data.tip_rate   R-squared:                       0.120\n",
       "Model:                            OLS   Adj. R-squared:                  0.113\n",
       "Method:                 Least Squares   F-statistic:                     16.47\n",
       "Date:                Thu, 16 Mar 2023   Prob (F-statistic):           1.98e-07\n",
       "Time:                        19:13:09   Log-Likelihood:                 352.06\n",
       "No. Observations:                 244   AIC:                            -698.1\n",
       "Df Residuals:                     241   BIC:                            -687.6\n",
       "Df Model:                           2                                         \n",
       "Covariance Type:            nonrobust                                         \n",
       "===================================================================================\n",
       "                      coef    std err          t      P>|t|      [0.025      0.975]\n",
       "-----------------------------------------------------------------------------------\n",
       "Intercept           0.1990      0.011     18.108      0.000       0.177       0.221\n",
       "data.total_bill    -0.0027      0.001     -5.229      0.000      -0.004      -0.002\n",
       "data['size']        0.0060      0.005      1.234      0.218      -0.004       0.016\n",
       "==============================================================================\n",
       "Omnibus:                      225.635   Durbin-Watson:                   1.988\n",
       "Prob(Omnibus):                  0.000   Jarque-Bera (JB):             7911.374\n",
       "Skew:                           3.440   Prob(JB):                         0.00\n",
       "Kurtosis:                      30.034   Cond. No.                         67.6\n",
       "==============================================================================\n",
       "\n",
       "Notes:\n",
       "[1] Standard Errors assume that the covariance matrix of the errors is correctly specified.\n",
       "\"\"\""
      ]
     },
     "execution_count": 59,
     "metadata": {},
     "output_type": "execute_result"
    }
   ],
   "source": [
    "def answer_18_2():\n",
    "    model=sm.ols(formula=\"data.tip_rate~data.total_bill+data['size']\",data=data).fit()\n",
    "    return model.summary()\n",
    "\n",
    "answer_18_2()\n",
    "\n",
    "    "
   ]
  },
  {
   "cell_type": "markdown",
   "metadata": {},
   "source": [
    "To improve the previous results, try to add a term composed of a multiplication of the variales total_bill and size to your formula"
   ]
  },
  {
   "cell_type": "code",
   "execution_count": 60,
   "metadata": {},
   "outputs": [
    {
     "data": {
      "text/html": [
       "<table class=\"simpletable\">\n",
       "<caption>OLS Regression Results</caption>\n",
       "<tr>\n",
       "  <th>Dep. Variable:</th>      <td>data.tip_rate</td>  <th>  R-squared:         </th> <td>   0.138</td>\n",
       "</tr>\n",
       "<tr>\n",
       "  <th>Model:</th>                   <td>OLS</td>       <th>  Adj. R-squared:    </th> <td>   0.127</td>\n",
       "</tr>\n",
       "<tr>\n",
       "  <th>Method:</th>             <td>Least Squares</td>  <th>  F-statistic:       </th> <td>   12.82</td>\n",
       "</tr>\n",
       "<tr>\n",
       "  <th>Date:</th>             <td>Thu, 16 Mar 2023</td> <th>  Prob (F-statistic):</th> <td>8.44e-08</td>\n",
       "</tr>\n",
       "<tr>\n",
       "  <th>Time:</th>                 <td>19:13:09</td>     <th>  Log-Likelihood:    </th> <td>  354.57</td>\n",
       "</tr>\n",
       "<tr>\n",
       "  <th>No. Observations:</th>      <td>   244</td>      <th>  AIC:               </th> <td>  -701.1</td>\n",
       "</tr>\n",
       "<tr>\n",
       "  <th>Df Residuals:</th>          <td>   240</td>      <th>  BIC:               </th> <td>  -687.1</td>\n",
       "</tr>\n",
       "<tr>\n",
       "  <th>Df Model:</th>              <td>     3</td>      <th>                     </th>     <td> </td>   \n",
       "</tr>\n",
       "<tr>\n",
       "  <th>Covariance Type:</th>      <td>nonrobust</td>    <th>                     </th>     <td> </td>   \n",
       "</tr>\n",
       "</table>\n",
       "<table class=\"simpletable\">\n",
       "<tr>\n",
       "                <td></td>                  <th>coef</th>     <th>std err</th>      <th>t</th>      <th>P>|t|</th>  <th>[0.025</th>    <th>0.975]</th>  \n",
       "</tr>\n",
       "<tr>\n",
       "  <th>Intercept</th>                    <td>    0.2582</td> <td>    0.029</td> <td>    9.009</td> <td> 0.000</td> <td>    0.202</td> <td>    0.315</td>\n",
       "</tr>\n",
       "<tr>\n",
       "  <th>data.total_bill</th>              <td>   -0.0053</td> <td>    0.001</td> <td>   -4.186</td> <td> 0.000</td> <td>   -0.008</td> <td>   -0.003</td>\n",
       "</tr>\n",
       "<tr>\n",
       "  <th>data['size']</th>                 <td>   -0.0176</td> <td>    0.012</td> <td>   -1.518</td> <td> 0.130</td> <td>   -0.040</td> <td>    0.005</td>\n",
       "</tr>\n",
       "<tr>\n",
       "  <th>data.total_bill:data['size']</th> <td>    0.0009</td> <td>    0.000</td> <td>    2.234</td> <td> 0.026</td> <td>    0.000</td> <td>    0.002</td>\n",
       "</tr>\n",
       "</table>\n",
       "<table class=\"simpletable\">\n",
       "<tr>\n",
       "  <th>Omnibus:</th>       <td>223.165</td> <th>  Durbin-Watson:     </th> <td>   1.984</td>\n",
       "</tr>\n",
       "<tr>\n",
       "  <th>Prob(Omnibus):</th> <td> 0.000</td>  <th>  Jarque-Bera (JB):  </th> <td>7660.687</td>\n",
       "</tr>\n",
       "<tr>\n",
       "  <th>Skew:</th>          <td> 3.388</td>  <th>  Prob(JB):          </th> <td>    0.00</td>\n",
       "</tr>\n",
       "<tr>\n",
       "  <th>Kurtosis:</th>      <td>29.601</td>  <th>  Cond. No.          </th> <td>    623.</td>\n",
       "</tr>\n",
       "</table><br/><br/>Notes:<br/>[1] Standard Errors assume that the covariance matrix of the errors is correctly specified."
      ],
      "text/plain": [
       "<class 'statsmodels.iolib.summary.Summary'>\n",
       "\"\"\"\n",
       "                            OLS Regression Results                            \n",
       "==============================================================================\n",
       "Dep. Variable:          data.tip_rate   R-squared:                       0.138\n",
       "Model:                            OLS   Adj. R-squared:                  0.127\n",
       "Method:                 Least Squares   F-statistic:                     12.82\n",
       "Date:                Thu, 16 Mar 2023   Prob (F-statistic):           8.44e-08\n",
       "Time:                        19:13:09   Log-Likelihood:                 354.57\n",
       "No. Observations:                 244   AIC:                            -701.1\n",
       "Df Residuals:                     240   BIC:                            -687.1\n",
       "Df Model:                           3                                         \n",
       "Covariance Type:            nonrobust                                         \n",
       "================================================================================================\n",
       "                                   coef    std err          t      P>|t|      [0.025      0.975]\n",
       "------------------------------------------------------------------------------------------------\n",
       "Intercept                        0.2582      0.029      9.009      0.000       0.202       0.315\n",
       "data.total_bill                 -0.0053      0.001     -4.186      0.000      -0.008      -0.003\n",
       "data['size']                    -0.0176      0.012     -1.518      0.130      -0.040       0.005\n",
       "data.total_bill:data['size']     0.0009      0.000      2.234      0.026       0.000       0.002\n",
       "==============================================================================\n",
       "Omnibus:                      223.165   Durbin-Watson:                   1.984\n",
       "Prob(Omnibus):                  0.000   Jarque-Bera (JB):             7660.687\n",
       "Skew:                           3.388   Prob(JB):                         0.00\n",
       "Kurtosis:                      29.601   Cond. No.                         623.\n",
       "==============================================================================\n",
       "\n",
       "Notes:\n",
       "[1] Standard Errors assume that the covariance matrix of the errors is correctly specified.\n",
       "\"\"\""
      ]
     },
     "execution_count": 60,
     "metadata": {},
     "output_type": "execute_result"
    }
   ],
   "source": [
    "def answer_18_3():\n",
    "    model=sm.ols(formula=\"data.tip_rate~data.total_bill+data['size']+(data.total_bill)*(data['size'])\",data=data).fit()\n",
    "    \n",
    "    return model.summary()\n",
    "answer_18_3()"
   ]
  },
  {
   "cell_type": "markdown",
   "metadata": {},
   "source": [
    "<mark>Conclusion:</mark>"
   ]
  },
  {
   "cell_type": "markdown",
   "metadata": {},
   "source": [
    "***\n",
    "*** \n",
    "\n",
    "\n",
    "\n",
    "# <font color='red'> Section 4. Some more analysis </font>\n",
    "With your mini-group partners, you are asked to push the analysis farther and to discover more univariante, bivariante analysis and plot, regression techniques, .... \n",
    "\n",
    "\n",
    "You will have to prepare a Jupiter Notebook (an extended version of the Jupiter Notebook of tutorial 2) with more analysis. Files should be submitted  via your private mini-group Discord channel.. Two or three groups will be chosen to present their jupiter notebook (no pre-preparation is needed, you need just to show your jupiter notebook and to explain your work to all of us). \n",
    "\n",
    "You are free to discover and to apply any technique that you consider useful for analyzing the dataset. Any new technique is welcome. Do not hesitate to go back to us for any question. Here are some \"non-exhastive\" examples of questions that can give you some pistes to explore. You are encouraged to find other interesting questions and to answer them using Python techniques.\n",
    "\n",
    "- can we observe visually any common tendancy or behaviour between total_bill, tip_rate and all other variables ? (you can use `pairplot`) (advanced : learn more and try about `pairplot` with hue parameter)\n",
    "- is there any linear correlation between variables ? Try to show it using a `heatmap`\n",
    "- what is the average and median table sizes ? Is there any exceptional table sizes that have been registered (outliers).\n",
    "- Women (who pay the bill)) come most often for dinner or lunch ? What about men ?\n",
    "- What is the proportion of gender (who pay the bill) according to each table size : bill of big tables are almost paid by male or female ? What about small tables ?\n",
    "- Big tables are most often observed for dinner or lunch ? (you can use `count plot` for example here)\n",
    " - Big tables are most often observed on Thursday, Friday, Saturday or Sunday ? (you can use `count plot` for example here)\n",
    "- Men who pay big tips are most often smokers or not ? (you can use `boxplot` with `hue` parameter for example)\n",
    "- Try to use/apply :\n",
    " - seaborn.lmplot : Plot data and regression model fits across a FacetGrid\n",
    " - plot.pie\n",
    " - PCA\n",
    "\n",
    "\n",
    "Here are some useful links to give you some ideas.\n",
    "\n",
    "**Multivariante analysis** \n",
    "- https://purnasaigudikandula.medium.com/exploratory-data-analysis-beginner-univariate-bivariate-and-multivariate-habberman-dataset-2365264b751\n",
    "- https://www.kaggle.com/xdurana/multivariate-analysis-and-correlation-matrix\n",
    "- https://www.kaggle.com/residentmario/multivariate-plotting\n",
    "\n",
    "\n",
    "**Correlation fucntion Corr( ):**\n",
    "- https://pandas.pydata.org/docs/reference/api/pandas.DataFrame.corr.html\n",
    "\n",
    "\n",
    "**Correlation Heat Map :  ** \n",
    "- https://medium.com/@szabo.bibor/how-to-create-a-seaborn-correlation-heatmap-in-python-834c0686b88e \n",
    "- https://seaborn.pydata.org/generated/seaborn.heatmap.html\n",
    "\n",
    "**Advanced concept: Principal Component Analysis (PCA)** \n",
    "- https://jakevdp.github.io/PythonDataScienceHandbook/05.09-principal-component-analysis.html\n",
    "- https://scikit-learn.org/stable/modules/generated/sklearn.decomposition.PCA.html\n"
   ]
  },
  {
   "cell_type": "code",
   "execution_count": null,
   "metadata": {},
   "outputs": [],
   "source": []
  }
 ],
 "metadata": {
  "kernelspec": {
   "display_name": "Python 3",
   "language": "python",
   "name": "python3"
  },
  "language_info": {
   "codemirror_mode": {
    "name": "ipython",
    "version": 3
   },
   "file_extension": ".py",
   "mimetype": "text/x-python",
   "name": "python",
   "nbconvert_exporter": "python",
   "pygments_lexer": "ipython3",
   "version": "3.8.5"
  }
 },
 "nbformat": 4,
 "nbformat_minor": 1
}
